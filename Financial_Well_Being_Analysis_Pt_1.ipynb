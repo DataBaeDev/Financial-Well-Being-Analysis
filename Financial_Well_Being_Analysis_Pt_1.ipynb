{
  "nbformat": 4,
  "nbformat_minor": 0,
  "metadata": {
    "colab": {
      "provenance": [],
      "authorship_tag": "ABX9TyOpj3mNP4xTAB70AWs3IWS4",
      "include_colab_link": true
    },
    "kernelspec": {
      "name": "python3",
      "display_name": "Python 3"
    },
    "language_info": {
      "name": "python"
    }
  },
  "cells": [
    {
      "cell_type": "markdown",
      "metadata": {
        "id": "view-in-github",
        "colab_type": "text"
      },
      "source": [
        "<a href=\"https://colab.research.google.com/github/DataBaeDev/Financial-Well-Being-Analysis/blob/main/Financial_Well_Being_Analysis_Pt_1.ipynb\" target=\"_parent\"><img src=\"https://colab.research.google.com/assets/colab-badge.svg\" alt=\"Open In Colab\"/></a>"
      ]
    },
    {
      "cell_type": "markdown",
      "source": [
        "# Financial Well-Being Analysis\n",
        "\n",
        "The Consumer Financial Protection Bureau's (CFPB) financial well-being survey measures individuals' financial well-being using a standardized scale based on their responses to survey questions about their financial situation and behaviors. The survey provides a score from 0 to 100, with higher scores indicating greater financial well-being. According to the CFPB, the survey dataset includes measures of individual and household characteristics that research suggests may influence adults’ financial well-being. The objective of the survey is to help policymakers, researchers, and educators understand financial challenges and design programs to improve financial literacy and stability.<br><br>\n",
        "\n",
        "Additional information on the survey can be found here: https://www.consumerfinance.gov/data-research/financial-well-being-survey-data/ <br><br>\n",
        "\n",
        "**The purpose of this analysis is to answer the following questions:**<br>\n",
        "\n",
        "1) Can the factors from one's childhood/adolescence included in the survey be used alone to predict the survey participants' current financial well-being score?<br>\n",
        "2) Can one's interconnectedness be used to predict one's financial well-being score?<br>\n",
        "\n",
        "The data used for this analysis was obtained from [consumerfinance.gov](https://consumerfinance.gov) in May 2024.<br>\n",
        "\n",
        "**The following limitations should be considered when reviewing this analysis:**\n",
        "\n",
        "*   Personal finance survey responses are highly subjective, as individuals' responses are influenced by personal perceptions, cultural norms, and social attitudes toward money. Feelings of embarrassment or shame about financial struggles may lead to misrepresentation ultimately affecting the accuracy of the data.\n",
        "*   Respondents to this survey use a multiple-choice answer system, as a result they might be required to choose options that don't perfectly capture their unique situations. This limitation can lead to oversimplified data, as nuanced experiences and feelings about financial well-being may not fit neatly into predefined categories.\n",
        "\n"
      ],
      "metadata": {
        "id": "z-ex8iQxBmRV"
      }
    },
    {
      "cell_type": "markdown",
      "source": [
        "## Install and Import Libraries"
      ],
      "metadata": {
        "id": "267-6vxaPdos"
      }
    },
    {
      "cell_type": "code",
      "source": [
        "# data viz library\n",
        "!pip install pywaffle"
      ],
      "metadata": {
        "collapsed": true,
        "id": "IOz2qtoVkzwR",
        "colab": {
          "base_uri": "https://localhost:8080/"
        },
        "outputId": "26f5bbf5-d71d-40f4-ed7c-7343bd052435"
      },
      "execution_count": 1,
      "outputs": [
        {
          "output_type": "stream",
          "name": "stdout",
          "text": [
            "Collecting pywaffle\n",
            "  Downloading pywaffle-1.1.1-py2.py3-none-any.whl (30 kB)\n",
            "Collecting fontawesomefree (from pywaffle)\n",
            "  Downloading fontawesomefree-6.6.0-py3-none-any.whl (25.6 MB)\n",
            "\u001b[2K     \u001b[90m━━━━━━━━━━━━━━━━━━━━━━━━━━━━━━━━━━━━━━━━\u001b[0m \u001b[32m25.6/25.6 MB\u001b[0m \u001b[31m15.0 MB/s\u001b[0m eta \u001b[36m0:00:00\u001b[0m\n",
            "\u001b[?25hRequirement already satisfied: matplotlib in /usr/local/lib/python3.10/dist-packages (from pywaffle) (3.7.1)\n",
            "Requirement already satisfied: contourpy>=1.0.1 in /usr/local/lib/python3.10/dist-packages (from matplotlib->pywaffle) (1.2.1)\n",
            "Requirement already satisfied: cycler>=0.10 in /usr/local/lib/python3.10/dist-packages (from matplotlib->pywaffle) (0.12.1)\n",
            "Requirement already satisfied: fonttools>=4.22.0 in /usr/local/lib/python3.10/dist-packages (from matplotlib->pywaffle) (4.53.1)\n",
            "Requirement already satisfied: kiwisolver>=1.0.1 in /usr/local/lib/python3.10/dist-packages (from matplotlib->pywaffle) (1.4.5)\n",
            "Requirement already satisfied: numpy>=1.20 in /usr/local/lib/python3.10/dist-packages (from matplotlib->pywaffle) (1.25.2)\n",
            "Requirement already satisfied: packaging>=20.0 in /usr/local/lib/python3.10/dist-packages (from matplotlib->pywaffle) (24.1)\n",
            "Requirement already satisfied: pillow>=6.2.0 in /usr/local/lib/python3.10/dist-packages (from matplotlib->pywaffle) (9.4.0)\n",
            "Requirement already satisfied: pyparsing>=2.3.1 in /usr/local/lib/python3.10/dist-packages (from matplotlib->pywaffle) (3.1.2)\n",
            "Requirement already satisfied: python-dateutil>=2.7 in /usr/local/lib/python3.10/dist-packages (from matplotlib->pywaffle) (2.8.2)\n",
            "Requirement already satisfied: six>=1.5 in /usr/local/lib/python3.10/dist-packages (from python-dateutil>=2.7->matplotlib->pywaffle) (1.16.0)\n",
            "Installing collected packages: fontawesomefree, pywaffle\n",
            "Successfully installed fontawesomefree-6.6.0 pywaffle-1.1.1\n"
          ]
        }
      ]
    },
    {
      "cell_type": "code",
      "source": [
        "from IPython.display import HTML\n",
        "import requests\n",
        "import sys\n",
        "\n",
        "import pandas as pd\n",
        "import numpy as np\n",
        "import matplotlib.pyplot as plt\n",
        "from pywaffle import Waffle\n",
        "\n",
        "import seaborn as sns\n",
        "import plotly.express as px"
      ],
      "metadata": {
        "id": "WrZZfWa6PT2Q"
      },
      "execution_count": 2,
      "outputs": []
    },
    {
      "cell_type": "markdown",
      "source": [
        "# Import Data"
      ],
      "metadata": {
        "id": "ba55M4tkPg9A"
      }
    },
    {
      "cell_type": "code",
      "source": [
        "#Import the dataset\n",
        "\n",
        "survey_results_df = pd.read_csv(\"https://raw.githubusercontent.com/DataBaeDev/Financial-Well-Being-Analysis/main/NFWBS_PUF_2016_data.csv\")\n",
        "#survey_results_df.head()"
      ],
      "metadata": {
        "collapsed": true,
        "id": "nT7d3GBUPncA"
      },
      "execution_count": 3,
      "outputs": []
    },
    {
      "cell_type": "code",
      "execution_count": 4,
      "metadata": {
        "id": "BCJLV0-CPGhN"
      },
      "outputs": [],
      "source": [
        "# Retrieve the contents of the mapping file from GitHub\n",
        "response = requests.get(\"https://raw.githubusercontent.com/DataBaeDev/Financial-Well-Being-Analysis/main/PUF_field_map.py\")\n",
        "response.raise_for_status()  # if an error occurs, returns HTTPError object\n",
        "\n",
        "# Read & execute the file, store the resulting builtins and field map in a dictionary\n",
        "field_mapping_response = response.text\n",
        "\n",
        "file_exec = {}\n",
        "exec(field_mapping_response, file_exec)"
      ]
    },
    {
      "cell_type": "code",
      "source": [
        "#Assign the actual field map to it's own variable\n",
        "field_map_dict = file_exec['field_map']"
      ],
      "metadata": {
        "id": "TpZo-3HRWtuK"
      },
      "execution_count": 5,
      "outputs": []
    },
    {
      "cell_type": "markdown",
      "source": [
        "# Implement Notebook Settings"
      ],
      "metadata": {
        "id": "jM38EvxfSEHp"
      }
    },
    {
      "cell_type": "code",
      "source": [
        "sns.set_palette(\"Set2\")\n",
        "\n",
        "pd.set_option('display.max_columns', None)\n",
        "pd.set_option('display.max_rows', None)"
      ],
      "metadata": {
        "id": "c-daUKFjSDYw"
      },
      "execution_count": 6,
      "outputs": []
    },
    {
      "cell_type": "markdown",
      "source": [
        "# Dataset Overview\n",
        "*  6394 rows x 217 columns\n",
        "*  Each record represents a survey response"
      ],
      "metadata": {
        "id": "ZTQySViWQYK-"
      }
    },
    {
      "cell_type": "code",
      "source": [
        "print(\"Number of Records\", survey_results_df.shape[0])\n",
        "print(\"Number of Columns\", survey_results_df.shape[1])\n",
        "\n",
        "#survey_results_df.columns.values"
      ],
      "metadata": {
        "id": "f5Vh10i3QTpQ",
        "colab": {
          "base_uri": "https://localhost:8080/"
        },
        "outputId": "dcfbb712-be41-4ff8-ff47-f33eb9133fa6"
      },
      "execution_count": 7,
      "outputs": [
        {
          "output_type": "stream",
          "name": "stdout",
          "text": [
            "Number of Records 6394\n",
            "Number of Columns 217\n"
          ]
        }
      ]
    },
    {
      "cell_type": "code",
      "source": [
        "survey_results_missing = survey_results_df.isna().sum()\n",
        "total_missing_values = survey_results_missing.sum()\n",
        "print(\"Number of NULL values in the dataset:\", total_missing_values)"
      ],
      "metadata": {
        "id": "mS4qozQo-BXJ",
        "colab": {
          "base_uri": "https://localhost:8080/"
        },
        "outputId": "eaff889c-22e2-4558-a8ed-a8353c2f7ca9"
      },
      "execution_count": 8,
      "outputs": [
        {
          "output_type": "stream",
          "name": "stdout",
          "text": [
            "Number of NULL values in the dataset: 0\n"
          ]
        }
      ]
    },
    {
      "cell_type": "markdown",
      "source": [
        "Surveys with null or empty values were excluded from the original dataset. However, participants had the option to refuse to answer questions.<br><br>\n",
        "Outliers are generally not a concern, since respondents answered using a multiple choice answer system."
      ],
      "metadata": {
        "id": "7JVrB3NUbEy3"
      }
    },
    {
      "cell_type": "markdown",
      "source": [
        "# Survey Participant Demographics (Initial Exploratory Data Analysis)"
      ],
      "metadata": {
        "id": "B4Vvv_nVWHLC"
      }
    },
    {
      "cell_type": "markdown",
      "source": [
        "Response Breakdown by Age Category and Gender"
      ],
      "metadata": {
        "id": "yTqN2gTMVRdP"
      }
    },
    {
      "cell_type": "code",
      "source": [
        "age_gender_df = survey_results_df[[\"agecat\", \"PPGENDER\"]].value_counts().reset_index()\n",
        "age_gender_df['Age Category'] = age_gender_df.agecat.map(field_map_dict['agecat'])\n",
        "age_gender_df['Gender'] = age_gender_df['PPGENDER'].map(field_map_dict['PPGENDER'])\n",
        "age_gender_df.sort_values(by=\"agecat\", inplace=True)\n",
        "\n",
        "age_gender_plot = sns.barplot(data = age_gender_df, x=\"Age Category\", y=\"count\", hue=\"Gender\")\n",
        "age_gender_plot.set_title(\"Response Count by Age Category and Gender\");"
      ],
      "metadata": {
        "id": "gXGKFsYxQvrA",
        "colab": {
          "base_uri": "https://localhost:8080/",
          "height": 472
        },
        "outputId": "a84ced85-116d-433d-8c37-778b04b1367f"
      },
      "execution_count": 9,
      "outputs": [
        {
          "output_type": "display_data",
          "data": {
            "text/plain": [
              "<Figure size 640x480 with 1 Axes>"
            ],
            "image/png": "[encoded data removed]"
          },
          "metadata": {}
        }
      ]
    },
    {
      "cell_type": "markdown",
      "source": [
        "Response Breakdown by Geographical Region & Household Income"
      ],
      "metadata": {
        "id": "xTrHg13KVbQC"
      }
    },
    {
      "cell_type": "code",
      "source": [
        "income_geo_df = survey_results_df[[\"PPREG4\", \"PPINCIMP\"]].value_counts().reset_index()\n",
        "income_geo_df['Census Region'] = income_geo_df[\"PPREG4\"].map(field_map_dict['PPREG4'])\n",
        "income_geo_df['Household Income'] = income_geo_df[\"PPINCIMP\"].map(field_map_dict['PPINCIMP'])\n",
        "income_geo_df.sort_values(by=[\"PPINCIMP\", \"PPREG4\"], inplace=True)\n",
        "#print(income_geo_df.head())\n",
        "\n",
        "income_geo_tree = px.treemap(income_geo_df, path=[\"Census Region\", \"Household Income\"], values=\"count\", title=\"Responses by Geography and Household Income\" )\n",
        "income_geo_tree.update_traces(marker=dict(cornerradius=3))\n",
        "income_geo_tree.update_layout(\n",
        "    uniformtext_minsize=9,\n",
        "    margin = dict(t=50, l=25, r=25, b=25)\n",
        ")\n",
        "income_geo_tree.data[0].textinfo = 'label+value'\n",
        "income_geo_tree.show()"
      ],
      "metadata": {
        "id": "B4tbkbLV1F9c",
        "colab": {
          "base_uri": "https://localhost:8080/",
          "height": 542
        },
        "outputId": "7a1419f1-803d-42d0-d19d-ac5ad6cabc8e"
      },
      "execution_count": 10,
      "outputs": [
        {
          "output_type": "display_data",
          "data": {
            "text/html": [
              "<html>\n",
              "<head><meta charset=\"utf-8\" /></head>\n",
              "<body>\n",
              "    <div>            <script src=\"https://cdnjs.cloudflare.com/ajax/libs/mathjax/2.7.5/MathJax.js?config=TeX-AMS-MML_SVG\"></script><script type=\"text/javascript\">if (window.MathJax && window.MathJax.Hub && window.MathJax.Hub.Config) {window.MathJax.Hub.Config({SVG: {font: \"STIX-Web\"}});}</script>                <script type=\"text/javascript\">window.PlotlyConfig = {MathJaxConfig: 'local'};</script>\n",
              "        <script charset=\"utf-8\" src=\"https://cdn.plot.ly/plotly-2.24.1.min.js\"></script>                <div id=\"856ac261-d5b6-4e8a-9575-9a255686da4c\" class=\"plotly-graph-div\" style=\"height:525px; width:100%;\"></div>            <script type=\"text/javascript\">                                    window.PLOTLYENV=window.PLOTLYENV || {};                                    if (document.getElementById(\"856ac261-d5b6-4e8a-9575-9a255686da4c\")) {                    Plotly.newPlot(                        \"856ac261-d5b6-4e8a-9575-9a255686da4c\",                        [{\"branchvalues\":\"total\",\"domain\":{\"x\":[0.0,1.0],\"y\":[0.0,1.0]},\"hovertemplate\":\"labels=%{label}\\u003cbr\\u003ecount=%{value}\\u003cbr\\u003eparent=%{parent}\\u003cbr\\u003eid=%{id}\\u003cextra\\u003e\\u003c\\u002fextra\\u003e\",\"ids\":[\"Midwest\\u002f$100,000 to $149,999\",\"Northeast\\u002f$100,000 to $149,999\",\"South\\u002f$100,000 to $149,999\",\"West\\u002f$100,000 to $149,999\",\"Midwest\\u002f$150,000 or more\",\"Northeast\\u002f$150,000 or more\",\"South\\u002f$150,000 or more\",\"West\\u002f$150,000 or more\",\"Midwest\\u002f$20,000 to $29,999\",\"Northeast\\u002f$20,000 to $29,999\",\"South\\u002f$20,000 to $29,999\",\"West\\u002f$20,000 to $29,999\",\"Midwest\\u002f$30,000 to $39,999\",\"Northeast\\u002f$30,000 to $39,999\",\"South\\u002f$30,000 to $39,999\",\"West\\u002f$30,000 to $39,999\",\"Midwest\\u002f$40,000 to $49,999\",\"Northeast\\u002f$40,000 to $49,999\",\"South\\u002f$40,000 to $49,999\",\"West\\u002f$40,000 to $49,999\",\"Midwest\\u002f$50,000 to $59,999\",\"Northeast\\u002f$50,000 to $59,999\",\"South\\u002f$50,000 to $59,999\",\"West\\u002f$50,000 to $59,999\",\"Midwest\\u002f$60,000 to $74,999\",\"Northeast\\u002f$60,000 to $74,999\",\"South\\u002f$60,000 to $74,999\",\"West\\u002f$60,000 to $74,999\",\"Midwest\\u002f$75,000 to $99,999\",\"Northeast\\u002f$75,000 to $99,999\",\"South\\u002f$75,000 to $99,999\",\"West\\u002f$75,000 to $99,999\",\"Midwest\\u002fLess than $20,000\",\"Northeast\\u002fLess than $20,000\",\"South\\u002fLess than $20,000\",\"West\\u002fLess than $20,000\",\"Midwest\",\"Northeast\",\"South\",\"West\"],\"labels\":[\"$100,000 to $149,999\",\"$100,000 to $149,999\",\"$100,000 to $149,999\",\"$100,000 to $149,999\",\"$150,000 or more\",\"$150,000 or more\",\"$150,000 or more\",\"$150,000 or more\",\"$20,000 to $29,999\",\"$20,000 to $29,999\",\"$20,000 to $29,999\",\"$20,000 to $29,999\",\"$30,000 to $39,999\",\"$30,000 to $39,999\",\"$30,000 to $39,999\",\"$30,000 to $39,999\",\"$40,000 to $49,999\",\"$40,000 to $49,999\",\"$40,000 to $49,999\",\"$40,000 to $49,999\",\"$50,000 to $59,999\",\"$50,000 to $59,999\",\"$50,000 to $59,999\",\"$50,000 to $59,999\",\"$60,000 to $74,999\",\"$60,000 to $74,999\",\"$60,000 to $74,999\",\"$60,000 to $74,999\",\"$75,000 to $99,999\",\"$75,000 to $99,999\",\"$75,000 to $99,999\",\"$75,000 to $99,999\",\"Less than $20,000\",\"Less than $20,000\",\"Less than $20,000\",\"Less than $20,000\",\"Midwest\",\"Northeast\",\"South\",\"West\"],\"name\":\"\",\"parents\":[\"Midwest\",\"Northeast\",\"South\",\"West\",\"Midwest\",\"Northeast\",\"South\",\"West\",\"Midwest\",\"Northeast\",\"South\",\"West\",\"Midwest\",\"Northeast\",\"South\",\"West\",\"Midwest\",\"Northeast\",\"South\",\"West\",\"Midwest\",\"Northeast\",\"South\",\"West\",\"Midwest\",\"Northeast\",\"South\",\"West\",\"Midwest\",\"Northeast\",\"South\",\"West\",\"Midwest\",\"Northeast\",\"South\",\"West\",\"\",\"\",\"\",\"\"],\"values\":[248,226,374,267,159,202,279,222,100,91,192,123,147,104,218,145,122,71,173,101,129,72,181,123,164,114,226,147,236,161,323,235,156,121,291,151,1461,1162,2257,1514],\"type\":\"treemap\",\"marker\":{\"cornerradius\":3},\"textinfo\":\"label+value\"}],                        {\"template\":{\"data\":{\"histogram2dcontour\":[{\"type\":\"histogram2dcontour\",\"colorbar\":{\"outlinewidth\":0,\"ticks\":\"\"},\"colorscale\":[[0.0,\"#0d0887\"],[0.1111111111111111,\"#46039f\"],[0.2222222222222222,\"#7201a8\"],[0.3333333333333333,\"#9c179e\"],[0.4444444444444444,\"#bd3786\"],[0.5555555555555556,\"#d8576b\"],[0.6666666666666666,\"#ed7953\"],[0.7777777777777778,\"#fb9f3a\"],[0.8888888888888888,\"#fdca26\"],[1.0,\"#f0f921\"]]}],\"choropleth\":[{\"type\":\"choropleth\",\"colorbar\":{\"outlinewidth\":0,\"ticks\":\"\"}}],\"histogram2d\":[{\"type\":\"histogram2d\",\"colorbar\":{\"outlinewidth\":0,\"ticks\":\"\"},\"colorscale\":[[0.0,\"#0d0887\"],[0.1111111111111111,\"#46039f\"],[0.2222222222222222,\"#7201a8\"],[0.3333333333333333,\"#9c179e\"],[0.4444444444444444,\"#bd3786\"],[0.5555555555555556,\"#d8576b\"],[0.6666666666666666,\"#ed7953\"],[0.7777777777777778,\"#fb9f3a\"],[0.8888888888888888,\"#fdca26\"],[1.0,\"#f0f921\"]]}],\"heatmap\":[{\"type\":\"heatmap\",\"colorbar\":{\"outlinewidth\":0,\"ticks\":\"\"},\"colorscale\":[[0.0,\"#0d0887\"],[0.1111111111111111,\"#46039f\"],[0.2222222222222222,\"#7201a8\"],[0.3333333333333333,\"#9c179e\"],[0.4444444444444444,\"#bd3786\"],[0.5555555555555556,\"#d8576b\"],[0.6666666666666666,\"#ed7953\"],[0.7777777777777778,\"#fb9f3a\"],[0.8888888888888888,\"#fdca26\"],[1.0,\"#f0f921\"]]}],\"heatmapgl\":[{\"type\":\"heatmapgl\",\"colorbar\":{\"outlinewidth\":0,\"ticks\":\"\"},\"colorscale\":[[0.0,\"#0d0887\"],[0.1111111111111111,\"#46039f\"],[0.2222222222222222,\"#7201a8\"],[0.3333333333333333,\"#9c179e\"],[0.4444444444444444,\"#bd3786\"],[0.5555555555555556,\"#d8576b\"],[0.6666666666666666,\"#ed7953\"],[0.7777777777777778,\"#fb9f3a\"],[0.8888888888888888,\"#fdca26\"],[1.0,\"#f0f921\"]]}],\"contourcarpet\":[{\"type\":\"contourcarpet\",\"colorbar\":{\"outlinewidth\":0,\"ticks\":\"\"}}],\"contour\":[{\"type\":\"contour\",\"colorbar\":{\"outlinewidth\":0,\"ticks\":\"\"},\"colorscale\":[[0.0,\"#0d0887\"],[0.1111111111111111,\"#46039f\"],[0.2222222222222222,\"#7201a8\"],[0.3333333333333333,\"#9c179e\"],[0.4444444444444444,\"#bd3786\"],[0.5555555555555556,\"#d8576b\"],[0.6666666666666666,\"#ed7953\"],[0.7777777777777778,\"#fb9f3a\"],[0.8888888888888888,\"#fdca26\"],[1.0,\"#f0f921\"]]}],\"surface\":[{\"type\":\"surface\",\"colorbar\":{\"outlinewidth\":0,\"ticks\":\"\"},\"colorscale\":[[0.0,\"#0d0887\"],[0.1111111111111111,\"#46039f\"],[0.2222222222222222,\"#7201a8\"],[0.3333333333333333,\"#9c179e\"],[0.4444444444444444,\"#bd3786\"],[0.5555555555555556,\"#d8576b\"],[0.6666666666666666,\"#ed7953\"],[0.7777777777777778,\"#fb9f3a\"],[0.8888888888888888,\"#fdca26\"],[1.0,\"#f0f921\"]]}],\"mesh3d\":[{\"type\":\"mesh3d\",\"colorbar\":{\"outlinewidth\":0,\"ticks\":\"\"}}],\"scatter\":[{\"fillpattern\":{\"fillmode\":\"overlay\",\"size\":10,\"solidity\":0.2},\"type\":\"scatter\"}],\"parcoords\":[{\"type\":\"parcoords\",\"line\":{\"colorbar\":{\"outlinewidth\":0,\"ticks\":\"\"}}}],\"scatterpolargl\":[{\"type\":\"scatterpolargl\",\"marker\":{\"colorbar\":{\"outlinewidth\":0,\"ticks\":\"\"}}}],\"bar\":[{\"error_x\":{\"color\":\"#2a3f5f\"},\"error_y\":{\"color\":\"#2a3f5f\"},\"marker\":{\"line\":{\"color\":\"#E5ECF6\",\"width\":0.5},\"pattern\":{\"fillmode\":\"overlay\",\"size\":10,\"solidity\":0.2}},\"type\":\"bar\"}],\"scattergeo\":[{\"type\":\"scattergeo\",\"marker\":{\"colorbar\":{\"outlinewidth\":0,\"ticks\":\"\"}}}],\"scatterpolar\":[{\"type\":\"scatterpolar\",\"marker\":{\"colorbar\":{\"outlinewidth\":0,\"ticks\":\"\"}}}],\"histogram\":[{\"marker\":{\"pattern\":{\"fillmode\":\"overlay\",\"size\":10,\"solidity\":0.2}},\"type\":\"histogram\"}],\"scattergl\":[{\"type\":\"scattergl\",\"marker\":{\"colorbar\":{\"outlinewidth\":0,\"ticks\":\"\"}}}],\"scatter3d\":[{\"type\":\"scatter3d\",\"line\":{\"colorbar\":{\"outlinewidth\":0,\"ticks\":\"\"}},\"marker\":{\"colorbar\":{\"outlinewidth\":0,\"ticks\":\"\"}}}],\"scattermapbox\":[{\"type\":\"scattermapbox\",\"marker\":{\"colorbar\":{\"outlinewidth\":0,\"ticks\":\"\"}}}],\"scatterternary\":[{\"type\":\"scatterternary\",\"marker\":{\"colorbar\":{\"outlinewidth\":0,\"ticks\":\"\"}}}],\"scattercarpet\":[{\"type\":\"scattercarpet\",\"marker\":{\"colorbar\":{\"outlinewidth\":0,\"ticks\":\"\"}}}],\"carpet\":[{\"aaxis\":{\"endlinecolor\":\"#2a3f5f\",\"gridcolor\":\"white\",\"linecolor\":\"white\",\"minorgridcolor\":\"white\",\"startlinecolor\":\"#2a3f5f\"},\"baxis\":{\"endlinecolor\":\"#2a3f5f\",\"gridcolor\":\"white\",\"linecolor\":\"white\",\"minorgridcolor\":\"white\",\"startlinecolor\":\"#2a3f5f\"},\"type\":\"carpet\"}],\"table\":[{\"cells\":{\"fill\":{\"color\":\"#EBF0F8\"},\"line\":{\"color\":\"white\"}},\"header\":{\"fill\":{\"color\":\"#C8D4E3\"},\"line\":{\"color\":\"white\"}},\"type\":\"table\"}],\"barpolar\":[{\"marker\":{\"line\":{\"color\":\"#E5ECF6\",\"width\":0.5},\"pattern\":{\"fillmode\":\"overlay\",\"size\":10,\"solidity\":0.2}},\"type\":\"barpolar\"}],\"pie\":[{\"automargin\":true,\"type\":\"pie\"}]},\"layout\":{\"autotypenumbers\":\"strict\",\"colorway\":[\"#636efa\",\"#EF553B\",\"#00cc96\",\"#ab63fa\",\"#FFA15A\",\"#19d3f3\",\"#FF6692\",\"#B6E880\",\"#FF97FF\",\"#FECB52\"],\"font\":{\"color\":\"#2a3f5f\"},\"hovermode\":\"closest\",\"hoverlabel\":{\"align\":\"left\"},\"paper_bgcolor\":\"white\",\"plot_bgcolor\":\"#E5ECF6\",\"polar\":{\"bgcolor\":\"#E5ECF6\",\"angularaxis\":{\"gridcolor\":\"white\",\"linecolor\":\"white\",\"ticks\":\"\"},\"radialaxis\":{\"gridcolor\":\"white\",\"linecolor\":\"white\",\"ticks\":\"\"}},\"ternary\":{\"bgcolor\":\"#E5ECF6\",\"aaxis\":{\"gridcolor\":\"white\",\"linecolor\":\"white\",\"ticks\":\"\"},\"baxis\":{\"gridcolor\":\"white\",\"linecolor\":\"white\",\"ticks\":\"\"},\"caxis\":{\"gridcolor\":\"white\",\"linecolor\":\"white\",\"ticks\":\"\"}},\"coloraxis\":{\"colorbar\":{\"outlinewidth\":0,\"ticks\":\"\"}},\"colorscale\":{\"sequential\":[[0.0,\"#0d0887\"],[0.1111111111111111,\"#46039f\"],[0.2222222222222222,\"#7201a8\"],[0.3333333333333333,\"#9c179e\"],[0.4444444444444444,\"#bd3786\"],[0.5555555555555556,\"#d8576b\"],[0.6666666666666666,\"#ed7953\"],[0.7777777777777778,\"#fb9f3a\"],[0.8888888888888888,\"#fdca26\"],[1.0,\"#f0f921\"]],\"sequentialminus\":[[0.0,\"#0d0887\"],[0.1111111111111111,\"#46039f\"],[0.2222222222222222,\"#7201a8\"],[0.3333333333333333,\"#9c179e\"],[0.4444444444444444,\"#bd3786\"],[0.5555555555555556,\"#d8576b\"],[0.6666666666666666,\"#ed7953\"],[0.7777777777777778,\"#fb9f3a\"],[0.8888888888888888,\"#fdca26\"],[1.0,\"#f0f921\"]],\"diverging\":[[0,\"#8e0152\"],[0.1,\"#c51b7d\"],[0.2,\"#de77ae\"],[0.3,\"#f1b6da\"],[0.4,\"#fde0ef\"],[0.5,\"#f7f7f7\"],[0.6,\"#e6f5d0\"],[0.7,\"#b8e186\"],[0.8,\"#7fbc41\"],[0.9,\"#4d9221\"],[1,\"#276419\"]]},\"xaxis\":{\"gridcolor\":\"white\",\"linecolor\":\"white\",\"ticks\":\"\",\"title\":{\"standoff\":15},\"zerolinecolor\":\"white\",\"automargin\":true,\"zerolinewidth\":2},\"yaxis\":{\"gridcolor\":\"white\",\"linecolor\":\"white\",\"ticks\":\"\",\"title\":{\"standoff\":15},\"zerolinecolor\":\"white\",\"automargin\":true,\"zerolinewidth\":2},\"scene\":{\"xaxis\":{\"backgroundcolor\":\"#E5ECF6\",\"gridcolor\":\"white\",\"linecolor\":\"white\",\"showbackground\":true,\"ticks\":\"\",\"zerolinecolor\":\"white\",\"gridwidth\":2},\"yaxis\":{\"backgroundcolor\":\"#E5ECF6\",\"gridcolor\":\"white\",\"linecolor\":\"white\",\"showbackground\":true,\"ticks\":\"\",\"zerolinecolor\":\"white\",\"gridwidth\":2},\"zaxis\":{\"backgroundcolor\":\"#E5ECF6\",\"gridcolor\":\"white\",\"linecolor\":\"white\",\"showbackground\":true,\"ticks\":\"\",\"zerolinecolor\":\"white\",\"gridwidth\":2}},\"shapedefaults\":{\"line\":{\"color\":\"#2a3f5f\"}},\"annotationdefaults\":{\"arrowcolor\":\"#2a3f5f\",\"arrowhead\":0,\"arrowwidth\":1},\"geo\":{\"bgcolor\":\"white\",\"landcolor\":\"#E5ECF6\",\"subunitcolor\":\"white\",\"showland\":true,\"showlakes\":true,\"lakecolor\":\"white\"},\"title\":{\"x\":0.05},\"mapbox\":{\"style\":\"light\"}}},\"legend\":{\"tracegroupgap\":0},\"title\":{\"text\":\"Responses by Geography and Household Income\"},\"uniformtext\":{\"minsize\":9},\"margin\":{\"t\":50,\"l\":25,\"r\":25,\"b\":25}},                        {\"responsive\": true}                    ).then(function(){\n",
              "                            \n",
              "var gd = document.getElementById('856ac261-d5b6-4e8a-9575-9a255686da4c');\n",
              "var x = new MutationObserver(function (mutations, observer) {{\n",
              "        var display = window.getComputedStyle(gd).display;\n",
              "        if (!display || display === 'none') {{\n",
              "            console.log([gd, 'removed!']);\n",
              "            Plotly.purge(gd);\n",
              "            observer.disconnect();\n",
              "        }}\n",
              "}});\n",
              "\n",
              "// Listen for the removal of the full notebook cells\n",
              "var notebookContainer = gd.closest('#notebook-container');\n",
              "if (notebookContainer) {{\n",
              "    x.observe(notebookContainer, {childList: true});\n",
              "}}\n",
              "\n",
              "// Listen for the clearing of the current output cell\n",
              "var outputEl = gd.closest('.output');\n",
              "if (outputEl) {{\n",
              "    x.observe(outputEl, {childList: true});\n",
              "}}\n",
              "\n",
              "                        })                };                            </script>        </div>\n",
              "</body>\n",
              "</html>"
            ]
          },
          "metadata": {}
        }
      ]
    },
    {
      "cell_type": "markdown",
      "source": [
        "Response Breakdown by Survey Participants' Education Level"
      ],
      "metadata": {
        "id": "SqPYoi_XzC3l"
      }
    },
    {
      "cell_type": "code",
      "source": [
        "ed_level = survey_results_df[\"PPEDUC\"].value_counts().to_frame()\n",
        "ed_level['Education Level'] = ed_level.index.map(field_map_dict['PPEDUC'])\n",
        "ed_level = ed_level.sort_index()\n",
        "#print(ed_level)\n",
        "\n",
        "plt.pie(ed_level['count'], labels=ed_level['Education Level'], autopct='%.0f%%')\n",
        "plt.title(\"Response by Education Level\")\n",
        "plt.show()"
      ],
      "metadata": {
        "id": "B_mvLvdpzLGP",
        "colab": {
          "base_uri": "https://localhost:8080/",
          "height": 428
        },
        "outputId": "d526a329-4bc7-4b85-fb41-c30afcebf417"
      },
      "execution_count": 11,
      "outputs": [
        {
          "output_type": "display_data",
          "data": {
            "text/plain": [
              "<Figure size 640x480 with 1 Axes>"
            ],
            "image/png": "[encoded data removed]"
          },
          "metadata": {}
        }
      ]
    },
    {
      "cell_type": "markdown",
      "source": [
        "Response Breakdown by Retirement Status"
      ],
      "metadata": {
        "id": "XpyRmqTyVubD"
      }
    },
    {
      "cell_type": "code",
      "source": [
        "#Isolate the retirement status data\n",
        "retirement_status = survey_results_df[\"EMPLOY1_8\"].value_counts().to_frame()\n",
        "retirement_status['Is Retired?'] = retirement_status.index.map(field_map_dict['EMPLOY1_8'])\n",
        "retirement_status = retirement_status.sort_index()\n",
        "\n",
        "#print(retirement_status)"
      ],
      "metadata": {
        "id": "qEUsQxG-JQ7B"
      },
      "execution_count": 12,
      "outputs": []
    },
    {
      "cell_type": "code",
      "source": [
        "plt.figure(\n",
        "    FigureClass=Waffle,\n",
        "    rows=5,\n",
        "    columns=10,\n",
        "    values=retirement_status['count'],\n",
        "    title={\n",
        "      'label': 'Response by Retirement Status',\n",
        "      'loc': 'left',\n",
        "      'fontdict': {\n",
        "          'fontsize': 15\n",
        "      }\n",
        "    },\n",
        "    labels= ['Not Retired', 'Retired'],\n",
        "    legend={'loc': 'upper left', 'bbox_to_anchor': (1, 1)}\n",
        ");"
      ],
      "metadata": {
        "id": "oKZ0xgSTmyQZ",
        "colab": {
          "base_uri": "https://localhost:8080/",
          "height": 294
        },
        "outputId": "8a4fdf5e-5b80-40b4-cb0c-f1a5a3a6e748"
      },
      "execution_count": 13,
      "outputs": [
        {
          "output_type": "display_data",
          "data": {
            "text/plain": [
              "<Waffle size 640x480 with 1 Axes>"
            ],
            "image/png": "[encoded data removed]"
          },
          "metadata": {}
        }
      ]
    },
    {
      "cell_type": "markdown",
      "source": [
        "## Analysis:\n",
        "### **Question 1:** Can the factors from one's childhood/adolescence included in the survey be used alone to predict the survey participants' current financial well-being score?"
      ],
      "metadata": {
        "id": "H7tFDw9_eSBg"
      }
    },
    {
      "cell_type": "markdown",
      "source": [
        "This portion of the analysis includes the following survey questions:\n",
        "*   Highest level of education by person/people who raised respondent\n",
        "*   Discussed family financial matters with me (yes/no)\n",
        "*   Spoke to me about the importance of saving (yes/no)\n",
        "*   Discussed how to establish a good credit rating (yes/no)\n",
        "*   Taught me how to be a smart shopper (yes/no)\n",
        "*   Taught me that my actions determine my success in life (yes/no)\n",
        "*   Provided me with a regular allowance (yes/no)\n",
        "*   Provided me with a savings account (yes/no)"
      ],
      "metadata": {
        "id": "ypq76AuiEr0g"
      }
    },
    {
      "cell_type": "code",
      "source": [
        "#Determine which features should be used to answer this question\n",
        "finsoc_columns = ['PAREDUC', 'FINSOC2_1','FINSOC2_2', 'FINSOC2_3', 'FINSOC2_4', 'FINSOC2_5',\n",
        "                  'FINSOC2_6','FINSOC2_7','FWBscore']\n",
        "finsoc_df = survey_results_df[finsoc_columns]\n",
        "finsoc_df.sample(5)"
      ],
      "metadata": {
        "id": "g9KFmWBVDcGn",
        "colab": {
          "base_uri": "https://localhost:8080/",
          "height": 206
        },
        "outputId": "f2a8ba10-83ad-44a7-fd6b-d4ba8dfaeabe"
      },
      "execution_count": 14,
      "outputs": [
        {
          "output_type": "execute_result",
          "data": {
            "text/plain": [
              "      PAREDUC  FINSOC2_1  FINSOC2_2  FINSOC2_3  FINSOC2_4  FINSOC2_5  \\\n",
              "5026        2          0          1          1          1          1   \n",
              "5966        2          0          0          0          0          0   \n",
              "6328        1          1          1          1          1          1   \n",
              "4368        2          1          0          0          0          0   \n",
              "2944        2          0          1          0          0          0   \n",
              "\n",
              "      FINSOC2_6  FINSOC2_7  FWBscore  \n",
              "5026          1          1        37  \n",
              "5966          0          0        49  \n",
              "6328          0          1        14  \n",
              "4368          0          0        60  \n",
              "2944          0          0        52  "
            ],
            "text/html": [
              "\n",
              "  <div id=\"df-76827e00-8a10-4136-9924-0230a1d54360\" class=\"colab-df-container\">\n",
              "    <div>\n",
              "<style scoped>\n",
              "    .dataframe tbody tr th:only-of-type {\n",
              "        vertical-align: middle;\n",
              "    }\n",
              "\n",
              "    .dataframe tbody tr th {\n",
              "        vertical-align: top;\n",
              "    }\n",
              "\n",
              "    .dataframe thead th {\n",
              "        text-align: right;\n",
              "    }\n",
              "</style>\n",
              "<table border=\"1\" class=\"dataframe\">\n",
              "  <thead>\n",
              "    <tr style=\"text-align: right;\">\n",
              "      <th></th>\n",
              "      <th>PAREDUC</th>\n",
              "      <th>FINSOC2_1</th>\n",
              "      <th>FINSOC2_2</th>\n",
              "      <th>FINSOC2_3</th>\n",
              "      <th>FINSOC2_4</th>\n",
              "      <th>FINSOC2_5</th>\n",
              "      <th>FINSOC2_6</th>\n",
              "      <th>FINSOC2_7</th>\n",
              "      <th>FWBscore</th>\n",
              "    </tr>\n",
              "  </thead>\n",
              "  <tbody>\n",
              "    <tr>\n",
              "      <th>5026</th>\n",
              "      <td>2</td>\n",
              "      <td>0</td>\n",
              "      <td>1</td>\n",
              "      <td>1</td>\n",
              "      <td>1</td>\n",
              "      <td>1</td>\n",
              "      <td>1</td>\n",
              "      <td>1</td>\n",
              "      <td>37</td>\n",
              "    </tr>\n",
              "    <tr>\n",
              "      <th>5966</th>\n",
              "      <td>2</td>\n",
              "      <td>0</td>\n",
              "      <td>0</td>\n",
              "      <td>0</td>\n",
              "      <td>0</td>\n",
              "      <td>0</td>\n",
              "      <td>0</td>\n",
              "      <td>0</td>\n",
              "      <td>49</td>\n",
              "    </tr>\n",
              "    <tr>\n",
              "      <th>6328</th>\n",
              "      <td>1</td>\n",
              "      <td>1</td>\n",
              "      <td>1</td>\n",
              "      <td>1</td>\n",
              "      <td>1</td>\n",
              "      <td>1</td>\n",
              "      <td>0</td>\n",
              "      <td>1</td>\n",
              "      <td>14</td>\n",
              "    </tr>\n",
              "    <tr>\n",
              "      <th>4368</th>\n",
              "      <td>2</td>\n",
              "      <td>1</td>\n",
              "      <td>0</td>\n",
              "      <td>0</td>\n",
              "      <td>0</td>\n",
              "      <td>0</td>\n",
              "      <td>0</td>\n",
              "      <td>0</td>\n",
              "      <td>60</td>\n",
              "    </tr>\n",
              "    <tr>\n",
              "      <th>2944</th>\n",
              "      <td>2</td>\n",
              "      <td>0</td>\n",
              "      <td>1</td>\n",
              "      <td>0</td>\n",
              "      <td>0</td>\n",
              "      <td>0</td>\n",
              "      <td>0</td>\n",
              "      <td>0</td>\n",
              "      <td>52</td>\n",
              "    </tr>\n",
              "  </tbody>\n",
              "</table>\n",
              "</div>\n",
              "    <div class=\"colab-df-buttons\">\n",
              "\n",
              "  <div class=\"colab-df-container\">\n",
              "    <button class=\"colab-df-convert\" onclick=\"convertToInteractive('df-76827e00-8a10-4136-9924-0230a1d54360')\"\n",
              "            title=\"Convert this dataframe to an interactive table.\"\n",
              "            style=\"display:none;\">\n",
              "\n",
              "  <svg xmlns=\"http://www.w3.org/2000/svg\" height=\"24px\" viewBox=\"0 -960 960 960\">\n",
              "    <path d=\"M120-120v-720h720v720H120Zm60-500h600v-160H180v160Zm220 220h160v-160H400v160Zm0 220h160v-160H400v160ZM180-400h160v-160H180v160Zm440 0h160v-160H620v160ZM180-180h160v-160H180v160Zm440 0h160v-160H620v160Z\"/>\n",
              "  </svg>\n",
              "    </button>\n",
              "\n",
              "  <style>\n",
              "    .colab-df-container {\n",
              "      display:flex;\n",
              "      gap: 12px;\n",
              "    }\n",
              "\n",
              "    .colab-df-convert {\n",
              "      background-color: #E8F0FE;\n",
              "      border: none;\n",
              "      border-radius: 50%;\n",
              "      cursor: pointer;\n",
              "      display: none;\n",
              "      fill: #1967D2;\n",
              "      height: 32px;\n",
              "      padding: 0 0 0 0;\n",
              "      width: 32px;\n",
              "    }\n",
              "\n",
              "    .colab-df-convert:hover {\n",
              "      background-color: #E2EBFA;\n",
              "      box-shadow: 0px 1px 2px rgba(60, 64, 67, 0.3), 0px 1px 3px 1px rgba(60, 64, 67, 0.15);\n",
              "      fill: #174EA6;\n",
              "    }\n",
              "\n",
              "    .colab-df-buttons div {\n",
              "      margin-bottom: 4px;\n",
              "    }\n",
              "\n",
              "    [theme=dark] .colab-df-convert {\n",
              "      background-color: #3B4455;\n",
              "      fill: #D2E3FC;\n",
              "    }\n",
              "\n",
              "    [theme=dark] .colab-df-convert:hover {\n",
              "      background-color: #434B5C;\n",
              "      box-shadow: 0px 1px 3px 1px rgba(0, 0, 0, 0.15);\n",
              "      filter: drop-shadow(0px 1px 2px rgba(0, 0, 0, 0.3));\n",
              "      fill: #FFFFFF;\n",
              "    }\n",
              "  </style>\n",
              "\n",
              "    <script>\n",
              "      const buttonEl =\n",
              "        document.querySelector('#df-76827e00-8a10-4136-9924-0230a1d54360 button.colab-df-convert');\n",
              "      buttonEl.style.display =\n",
              "        google.colab.kernel.accessAllowed ? 'block' : 'none';\n",
              "\n",
              "      async function convertToInteractive(key) {\n",
              "        const element = document.querySelector('#df-76827e00-8a10-4136-9924-0230a1d54360');\n",
              "        const dataTable =\n",
              "          await google.colab.kernel.invokeFunction('convertToInteractive',\n",
              "                                                    [key], {});\n",
              "        if (!dataTable) return;\n",
              "\n",
              "        const docLinkHtml = 'Like what you see? Visit the ' +\n",
              "          '<a target=\"_blank\" href=https://colab.research.google.com/notebooks/data_table.ipynb>data table notebook</a>'\n",
              "          + ' to learn more about interactive tables.';\n",
              "        element.innerHTML = '';\n",
              "        dataTable['output_type'] = 'display_data';\n",
              "        await google.colab.output.renderOutput(dataTable, element);\n",
              "        const docLink = document.createElement('div');\n",
              "        docLink.innerHTML = docLinkHtml;\n",
              "        element.appendChild(docLink);\n",
              "      }\n",
              "    </script>\n",
              "  </div>\n",
              "\n",
              "\n",
              "<div id=\"df-f704e917-5f90-452d-9c1a-f398bb51b07d\">\n",
              "  <button class=\"colab-df-quickchart\" onclick=\"quickchart('df-f704e917-5f90-452d-9c1a-f398bb51b07d')\"\n",
              "            title=\"Suggest charts\"\n",
              "            style=\"display:none;\">\n",
              "\n",
              "<svg xmlns=\"http://www.w3.org/2000/svg\" height=\"24px\"viewBox=\"0 0 24 24\"\n",
              "     width=\"24px\">\n",
              "    <g>\n",
              "        <path d=\"M19 3H5c-1.1 0-2 .9-2 2v14c0 1.1.9 2 2 2h14c1.1 0 2-.9 2-2V5c0-1.1-.9-2-2-2zM9 17H7v-7h2v7zm4 0h-2V7h2v10zm4 0h-2v-4h2v4z\"/>\n",
              "    </g>\n",
              "</svg>\n",
              "  </button>\n",
              "\n",
              "<style>\n",
              "  .colab-df-quickchart {\n",
              "      --bg-color: #E8F0FE;\n",
              "      --fill-color: #1967D2;\n",
              "      --hover-bg-color: #E2EBFA;\n",
              "      --hover-fill-color: #174EA6;\n",
              "      --disabled-fill-color: #AAA;\n",
              "      --disabled-bg-color: #DDD;\n",
              "  }\n",
              "\n",
              "  [theme=dark] .colab-df-quickchart {\n",
              "      --bg-color: #3B4455;\n",
              "      --fill-color: #D2E3FC;\n",
              "      --hover-bg-color: #434B5C;\n",
              "      --hover-fill-color: #FFFFFF;\n",
              "      --disabled-bg-color: #3B4455;\n",
              "      --disabled-fill-color: #666;\n",
              "  }\n",
              "\n",
              "  .colab-df-quickchart {\n",
              "    background-color: var(--bg-color);\n",
              "    border: none;\n",
              "    border-radius: 50%;\n",
              "    cursor: pointer;\n",
              "    display: none;\n",
              "    fill: var(--fill-color);\n",
              "    height: 32px;\n",
              "    padding: 0;\n",
              "    width: 32px;\n",
              "  }\n",
              "\n",
              "  .colab-df-quickchart:hover {\n",
              "    background-color: var(--hover-bg-color);\n",
              "    box-shadow: 0 1px 2px rgba(60, 64, 67, 0.3), 0 1px 3px 1px rgba(60, 64, 67, 0.15);\n",
              "    fill: var(--button-hover-fill-color);\n",
              "  }\n",
              "\n",
              "  .colab-df-quickchart-complete:disabled,\n",
              "  .colab-df-quickchart-complete:disabled:hover {\n",
              "    background-color: var(--disabled-bg-color);\n",
              "    fill: var(--disabled-fill-color);\n",
              "    box-shadow: none;\n",
              "  }\n",
              "\n",
              "  .colab-df-spinner {\n",
              "    border: 2px solid var(--fill-color);\n",
              "    border-color: transparent;\n",
              "    border-bottom-color: var(--fill-color);\n",
              "    animation:\n",
              "      spin 1s steps(1) infinite;\n",
              "  }\n",
              "\n",
              "  @keyframes spin {\n",
              "    0% {\n",
              "      border-color: transparent;\n",
              "      border-bottom-color: var(--fill-color);\n",
              "      border-left-color: var(--fill-color);\n",
              "    }\n",
              "    20% {\n",
              "      border-color: transparent;\n",
              "      border-left-color: var(--fill-color);\n",
              "      border-top-color: var(--fill-color);\n",
              "    }\n",
              "    30% {\n",
              "      border-color: transparent;\n",
              "      border-left-color: var(--fill-color);\n",
              "      border-top-color: var(--fill-color);\n",
              "      border-right-color: var(--fill-color);\n",
              "    }\n",
              "    40% {\n",
              "      border-color: transparent;\n",
              "      border-right-color: var(--fill-color);\n",
              "      border-top-color: var(--fill-color);\n",
              "    }\n",
              "    60% {\n",
              "      border-color: transparent;\n",
              "      border-right-color: var(--fill-color);\n",
              "    }\n",
              "    80% {\n",
              "      border-color: transparent;\n",
              "      border-right-color: var(--fill-color);\n",
              "      border-bottom-color: var(--fill-color);\n",
              "    }\n",
              "    90% {\n",
              "      border-color: transparent;\n",
              "      border-bottom-color: var(--fill-color);\n",
              "    }\n",
              "  }\n",
              "</style>\n",
              "\n",
              "  <script>\n",
              "    async function quickchart(key) {\n",
              "      const quickchartButtonEl =\n",
              "        document.querySelector('#' + key + ' button');\n",
              "      quickchartButtonEl.disabled = true;  // To prevent multiple clicks.\n",
              "      quickchartButtonEl.classList.add('colab-df-spinner');\n",
              "      try {\n",
              "        const charts = await google.colab.kernel.invokeFunction(\n",
              "            'suggestCharts', [key], {});\n",
              "      } catch (error) {\n",
              "        console.error('Error during call to suggestCharts:', error);\n",
              "      }\n",
              "      quickchartButtonEl.classList.remove('colab-df-spinner');\n",
              "      quickchartButtonEl.classList.add('colab-df-quickchart-complete');\n",
              "    }\n",
              "    (() => {\n",
              "      let quickchartButtonEl =\n",
              "        document.querySelector('#df-f704e917-5f90-452d-9c1a-f398bb51b07d button');\n",
              "      quickchartButtonEl.style.display =\n",
              "        google.colab.kernel.accessAllowed ? 'block' : 'none';\n",
              "    })();\n",
              "  </script>\n",
              "</div>\n",
              "\n",
              "    </div>\n",
              "  </div>\n"
            ],
            "application/vnd.google.colaboratory.intrinsic+json": {
              "type": "dataframe",
              "summary": "{\n  \"name\": \"finsoc_df\",\n  \"rows\": 5,\n  \"fields\": [\n    {\n      \"column\": \"PAREDUC\",\n      \"properties\": {\n        \"dtype\": \"number\",\n        \"std\": 0,\n        \"min\": 1,\n        \"max\": 2,\n        \"num_unique_values\": 2,\n        \"samples\": [\n          1,\n          2\n        ],\n        \"semantic_type\": \"\",\n        \"description\": \"\"\n      }\n    },\n    {\n      \"column\": \"FINSOC2_1\",\n      \"properties\": {\n        \"dtype\": \"number\",\n        \"std\": 0,\n        \"min\": 0,\n        \"max\": 1,\n        \"num_unique_values\": 2,\n        \"samples\": [\n          1,\n          0\n        ],\n        \"semantic_type\": \"\",\n        \"description\": \"\"\n      }\n    },\n    {\n      \"column\": \"FINSOC2_2\",\n      \"properties\": {\n        \"dtype\": \"number\",\n        \"std\": 0,\n        \"min\": 0,\n        \"max\": 1,\n        \"num_unique_values\": 2,\n        \"samples\": [\n          0,\n          1\n        ],\n        \"semantic_type\": \"\",\n        \"description\": \"\"\n      }\n    },\n    {\n      \"column\": \"FINSOC2_3\",\n      \"properties\": {\n        \"dtype\": \"number\",\n        \"std\": 0,\n        \"min\": 0,\n        \"max\": 1,\n        \"num_unique_values\": 2,\n        \"samples\": [\n          0,\n          1\n        ],\n        \"semantic_type\": \"\",\n        \"description\": \"\"\n      }\n    },\n    {\n      \"column\": \"FINSOC2_4\",\n      \"properties\": {\n        \"dtype\": \"number\",\n        \"std\": 0,\n        \"min\": 0,\n        \"max\": 1,\n        \"num_unique_values\": 2,\n        \"samples\": [\n          0,\n          1\n        ],\n        \"semantic_type\": \"\",\n        \"description\": \"\"\n      }\n    },\n    {\n      \"column\": \"FINSOC2_5\",\n      \"properties\": {\n        \"dtype\": \"number\",\n        \"std\": 0,\n        \"min\": 0,\n        \"max\": 1,\n        \"num_unique_values\": 2,\n        \"samples\": [\n          0,\n          1\n        ],\n        \"semantic_type\": \"\",\n        \"description\": \"\"\n      }\n    },\n    {\n      \"column\": \"FINSOC2_6\",\n      \"properties\": {\n        \"dtype\": \"number\",\n        \"std\": 0,\n        \"min\": 0,\n        \"max\": 1,\n        \"num_unique_values\": 2,\n        \"samples\": [\n          0,\n          1\n        ],\n        \"semantic_type\": \"\",\n        \"description\": \"\"\n      }\n    },\n    {\n      \"column\": \"FINSOC2_7\",\n      \"properties\": {\n        \"dtype\": \"number\",\n        \"std\": 0,\n        \"min\": 0,\n        \"max\": 1,\n        \"num_unique_values\": 2,\n        \"samples\": [\n          0,\n          1\n        ],\n        \"semantic_type\": \"\",\n        \"description\": \"\"\n      }\n    },\n    {\n      \"column\": \"FWBscore\",\n      \"properties\": {\n        \"dtype\": \"number\",\n        \"std\": 17,\n        \"min\": 14,\n        \"max\": 60,\n        \"num_unique_values\": 5,\n        \"samples\": [\n          49,\n          52\n        ],\n        \"semantic_type\": \"\",\n        \"description\": \"\"\n      }\n    }\n  ]\n}"
            }
          },
          "metadata": {},
          "execution_count": 14
        }
      ]
    },
    {
      "cell_type": "markdown",
      "source": [
        "# Data Manipulation"
      ],
      "metadata": {
        "id": "eOODLG1kTsiA"
      }
    },
    {
      "cell_type": "code",
      "source": [
        "# Dropping the records that don't have a financial well-being score {-4: 'Response not written to database', -1: 'Refused'}\n",
        "finsoc_df = finsoc_df[finsoc_df['FWBscore']>0]\n",
        "\n",
        "#Dropping the records that did not provide the parents' highest level of education {-1: 'Refused'}\n",
        "finsoc_df = finsoc_df[finsoc_df['PAREDUC']>0]"
      ],
      "metadata": {
        "id": "UfQONUl_U1CV"
      },
      "execution_count": 15,
      "outputs": []
    },
    {
      "cell_type": "code",
      "source": [
        "#For the yes/no questions, changed \"refused\" to \"no\"\n",
        "for col in finsoc_df.columns[1:-1]:\n",
        "  finsoc_df[col].replace(-1,0, inplace=True)\n",
        "  #  print(finsoc_df[col].value_counts())"
      ],
      "metadata": {
        "id": "r4LT-nO7WEtX"
      },
      "execution_count": 16,
      "outputs": []
    },
    {
      "cell_type": "markdown",
      "source": [
        "# Exploratory Data Analysis"
      ],
      "metadata": {
        "id": "gSfyEeEQTwji"
      }
    },
    {
      "cell_type": "code",
      "source": [
        "#Visualize the respondents parent's education using proportions\n",
        "finsoc_df['Parent Education Values'] =  finsoc_df['PAREDUC'].map(field_map_dict['PAREDUC'])\n",
        "\n",
        "parent_educ = finsoc_df[['Parent Education Values', 'PAREDUC']].value_counts().reset_index().sort_values(by=['PAREDUC'])\n",
        "#print(parent_educ)\n",
        "\n",
        "plt.figure(\n",
        "    figsize=(8,7),\n",
        "    FigureClass=Waffle,\n",
        "    rows=5,\n",
        "    columns=10,\n",
        "    values= parent_educ['count'],\n",
        "     plot_anchor='S',\n",
        "    title={\n",
        "      'label': 'Highest level of education by person/people who raised respondent',\n",
        "      'pad':15,\n",
        "      'loc': 'left',\n",
        "      'fontdict': {\n",
        "          'fontsize': 12\n",
        "      }\n",
        "    },\n",
        "     labels= parent_educ['Parent Education Values'].to_list(),\n",
        "    legend={'loc': 'upper left', 'bbox_to_anchor': (1.1,1)}\n",
        ");"
      ],
      "metadata": {
        "colab": {
          "base_uri": "https://localhost:8080/",
          "height": 298
        },
        "id": "-NZV_NnqZqY8",
        "outputId": "ac8a195f-5dc9-4554-9866-152e0b8ee549"
      },
      "execution_count": 39,
      "outputs": [
        {
          "output_type": "display_data",
          "data": {
            "text/plain": [
              "<Waffle size 800x700 with 1 Axes>"
            ],
            "image/png": "[encoded data removed]"
          },
          "metadata": {}
        }
      ]
    },
    {
      "cell_type": "code",
      "source": [
        "ax = sns.histplot(data=finsoc_df, x='FWBscore', stat='density')\n",
        "sns.kdeplot(data=finsoc_df, x='FWBscore', color=\"blue\", ax=ax)\n",
        "ax.set(title='Distribution of Financial Well-Being Scores')\n",
        "plt.xlabel('Financial Well-Being Score');"
      ],
      "metadata": {
        "id": "rcKncU-JI0Yv",
        "colab": {
          "base_uri": "https://localhost:8080/",
          "height": 472
        },
        "outputId": "326c3ef8-e5aa-4bca-d7b9-8e1ff2afc59e"
      },
      "execution_count": 18,
      "outputs": [
        {
          "output_type": "display_data",
          "data": {
            "text/plain": [
              "<Figure size 640x480 with 1 Axes>"
            ],
            "image/png": "[encoded data removed]"
          },
          "metadata": {}
        }
      ]
    },
    {
      "cell_type": "code",
      "source": [
        "sns.heatmap(finsoc_df.corr(numeric_only=True), annot=True);"
      ],
      "metadata": {
        "id": "IA0i810tCTYM",
        "colab": {
          "base_uri": "https://localhost:8080/",
          "height": 498
        },
        "outputId": "8240f0f8-60c1-4f70-e7de-c272897975da"
      },
      "execution_count": 19,
      "outputs": [
        {
          "output_type": "display_data",
          "data": {
            "text/plain": [
              "<Figure size 640x480 with 2 Axes>"
            ],
            "image/png": "[encoded data removed]"
          },
          "metadata": {}
        }
      ]
    },
    {
      "cell_type": "markdown",
      "source": [
        "## Import Machine Learning Models"
      ],
      "metadata": {
        "id": "n3b18KSCKSB9"
      }
    },
    {
      "cell_type": "code",
      "source": [
        "from sklearn.model_selection import train_test_split\n",
        "\n",
        "from sklearn.linear_model import LinearRegression\n",
        "from sklearn.ensemble import RandomForestRegressor\n",
        "from sklearn.ensemble import GradientBoostingRegressor\n",
        "from sklearn.neighbors import KNeighborsRegressor\n",
        "\n",
        "from sklearn.metrics import mean_squared_error, r2_score"
      ],
      "metadata": {
        "id": "2r2vLdc_HC1B"
      },
      "execution_count": 20,
      "outputs": []
    },
    {
      "cell_type": "markdown",
      "source": [
        "## Split the Data into Training and Test Datasets"
      ],
      "metadata": {
        "id": "_yTii6JY8_Qq"
      }
    },
    {
      "cell_type": "code",
      "source": [
        "# Establish independent and dependent variables\n",
        "X = finsoc_df.drop(columns=[\"FWBscore\", \"Parent Education Values\"], axis=1).values #remove dependent variable and non-numeric column\n",
        "##XX = np.array(independent_variables).reshape(-1, 1)\n",
        "\n",
        "y = finsoc_df['FWBscore'].values"
      ],
      "metadata": {
        "id": "Fg9OiRLhKWPG"
      },
      "execution_count": 21,
      "outputs": []
    },
    {
      "cell_type": "code",
      "source": [
        "#split the data using the default settings\n",
        "x_train, x_test, y_train, y_test = train_test_split(X,y, test_size=.2 )"
      ],
      "metadata": {
        "id": "ZwCFP4JYLqpy"
      },
      "execution_count": 22,
      "outputs": []
    },
    {
      "cell_type": "code",
      "source": [
        "model_dict = {\n",
        "    \"Linear_Regression\" : LinearRegression(),\n",
        "    \"Random_Forest_Regressor\" : RandomForestRegressor(),\n",
        "    \"Gradient_Boost_Regressor\": GradientBoostingRegressor(),\n",
        "    \"KNN_Regressor\": KNeighborsRegressor()\n",
        "  }"
      ],
      "metadata": {
        "id": "zpXtjGdt9OI0"
      },
      "execution_count": 23,
      "outputs": []
    },
    {
      "cell_type": "markdown",
      "source": [
        "## Train Models and Display Accuracy"
      ],
      "metadata": {
        "id": "-3ot9aEsVahT"
      }
    },
    {
      "cell_type": "code",
      "source": [
        "for model in model_dict:\n",
        "  model_dict[model].fit(x_train, y_train)\n",
        "\n",
        "  # Predict the test set\n",
        "  y_pred = model_dict[model].predict(x_test)\n",
        "\n",
        "# Evaluate the model\n",
        "  mse = mean_squared_error(y_test, y_pred)\n",
        "  r2 = r2_score(y_test, y_pred)\n",
        "\n",
        "  #Display results as html for ease of reading\n",
        "  html_output = f\"\"\"\n",
        "    <div>\n",
        "        <strong style='background-color: #DDBFFE;'>{model}</strong><br>\n",
        "        Mean Squared Error: {mse}<br>\n",
        "        R-squared: {r2}\n",
        "    </div>\n",
        "    \"\"\"\n",
        "  display(HTML(html_output))\n",
        "  #pickle.dump(model_dict[model], open(f'/content/drive/MyDrive/Financial Well Being Analysis/Q1_{model}_.pkl','wb'))"
      ],
      "metadata": {
        "colab": {
          "base_uri": "https://localhost:8080/",
          "height": 225
        },
        "id": "kIOJMTix_wjd",
        "outputId": "a9e4f500-8aa0-46e0-c358-ad532a2e09ba"
      },
      "execution_count": 24,
      "outputs": [
        {
          "output_type": "display_data",
          "data": {
            "text/plain": [
              "<IPython.core.display.HTML object>"
            ],
            "text/html": [
              "\n",
              "    <div>\n",
              "        <strong style='background-color: #DDBFFE;'>Linear_Regression</strong><br>\n",
              "        Mean Squared Error: 191.38199541838097<br>\n",
              "        R-squared: 0.04220646909506798\n",
              "    </div>\n",
              "    "
            ]
          },
          "metadata": {}
        },
        {
          "output_type": "display_data",
          "data": {
            "text/plain": [
              "<IPython.core.display.HTML object>"
            ],
            "text/html": [
              "\n",
              "    <div>\n",
              "        <strong style='background-color: #DDBFFE;'>Random_Forest_Regressor</strong><br>\n",
              "        Mean Squared Error: 206.37184711081775<br>\n",
              "        R-squared: -0.032811993058877276\n",
              "    </div>\n",
              "    "
            ]
          },
          "metadata": {}
        },
        {
          "output_type": "display_data",
          "data": {
            "text/plain": [
              "<IPython.core.display.HTML object>"
            ],
            "text/html": [
              "\n",
              "    <div>\n",
              "        <strong style='background-color: #DDBFFE;'>Gradient_Boost_Regressor</strong><br>\n",
              "        Mean Squared Error: 191.66962094674622<br>\n",
              "        R-squared: 0.04076701357163104\n",
              "    </div>\n",
              "    "
            ]
          },
          "metadata": {}
        },
        {
          "output_type": "display_data",
          "data": {
            "text/plain": [
              "<IPython.core.display.HTML object>"
            ],
            "text/html": [
              "\n",
              "    <div>\n",
              "        <strong style='background-color: #DDBFFE;'>KNN_Regressor</strong><br>\n",
              "        Mean Squared Error: 235.8730654058314<br>\n",
              "        R-squared: -0.18045428289396614\n",
              "    </div>\n",
              "    "
            ]
          },
          "metadata": {}
        }
      ]
    },
    {
      "cell_type": "markdown",
      "source": [
        "## Compare predictions for each model with actual values"
      ],
      "metadata": {
        "id": "8aVFgONCbKDX"
      }
    },
    {
      "cell_type": "code",
      "source": [
        "# Generate an array of 5 random records\n",
        "random_numbers = np.random.randint(0, 1269, size=5)\n",
        "\n",
        "# For each selected record, print the record index and actual value\n",
        "for num in random_numbers:\n",
        "  actual_value = y_test[num]\n",
        "  record_detail =f\"\"\"\n",
        "    <div style='background-color: #DDBFFE;'>\n",
        "        <p><strong>Record Index:</strong> {num} &emsp; <strong>Actual value:</strong> {actual_value}</p>\n",
        "    </div>\n",
        "    \"\"\"\n",
        "  display(HTML(record_detail))\n",
        "  #for each model, display the predicted value\n",
        "  for model in model_dict:\n",
        "    prediction = model_dict[model].predict(x_test[num].reshape(1, -1))\n",
        "    results =  f\"\"\"\n",
        "    <p>{model} Prediction: {prediction}</p>\n",
        "    \"\"\"\n",
        "    display(HTML(results))"
      ],
      "metadata": {
        "id": "mu-7TvrCMSLh",
        "colab": {
          "base_uri": "https://localhost:8080/",
          "height": 607
        },
        "outputId": "1338925d-82fc-4aa7-a237-517df0c46d04"
      },
      "execution_count": 25,
      "outputs": [
        {
          "output_type": "display_data",
          "data": {
            "text/plain": [
              "<IPython.core.display.HTML object>"
            ],
            "text/html": [
              "\n",
              "    <div style='background-color: #DDBFFE;'>\n",
              "        <p><strong>Record Index:</strong> 667 &emsp; <strong>Actual value:</strong> 14</p>\n",
              "    </div>\n",
              "    "
            ]
          },
          "metadata": {}
        },
        {
          "output_type": "display_data",
          "data": {
            "text/plain": [
              "<IPython.core.display.HTML object>"
            ],
            "text/html": [
              "\n",
              "    <p>Linear_Regression Prediction: [51.92782664]</p>\n",
              "    "
            ]
          },
          "metadata": {}
        },
        {
          "output_type": "display_data",
          "data": {
            "text/plain": [
              "<IPython.core.display.HTML object>"
            ],
            "text/html": [
              "\n",
              "    <p>Random_Forest_Regressor Prediction: [49.67745959]</p>\n",
              "    "
            ]
          },
          "metadata": {}
        },
        {
          "output_type": "display_data",
          "data": {
            "text/plain": [
              "<IPython.core.display.HTML object>"
            ],
            "text/html": [
              "\n",
              "    <p>Gradient_Boost_Regressor Prediction: [50.4571546]</p>\n",
              "    "
            ]
          },
          "metadata": {}
        },
        {
          "output_type": "display_data",
          "data": {
            "text/plain": [
              "<IPython.core.display.HTML object>"
            ],
            "text/html": [
              "\n",
              "    <p>KNN_Regressor Prediction: [41.2]</p>\n",
              "    "
            ]
          },
          "metadata": {}
        },
        {
          "output_type": "display_data",
          "data": {
            "text/plain": [
              "<IPython.core.display.HTML object>"
            ],
            "text/html": [
              "\n",
              "    <div style='background-color: #DDBFFE;'>\n",
              "        <p><strong>Record Index:</strong> 738 &emsp; <strong>Actual value:</strong> 40</p>\n",
              "    </div>\n",
              "    "
            ]
          },
          "metadata": {}
        },
        {
          "output_type": "display_data",
          "data": {
            "text/plain": [
              "<IPython.core.display.HTML object>"
            ],
            "text/html": [
              "\n",
              "    <p>Linear_Regression Prediction: [52.96222534]</p>\n",
              "    "
            ]
          },
          "metadata": {}
        },
        {
          "output_type": "display_data",
          "data": {
            "text/plain": [
              "<IPython.core.display.HTML object>"
            ],
            "text/html": [
              "\n",
              "    <p>Random_Forest_Regressor Prediction: [48.33988669]</p>\n",
              "    "
            ]
          },
          "metadata": {}
        },
        {
          "output_type": "display_data",
          "data": {
            "text/plain": [
              "<IPython.core.display.HTML object>"
            ],
            "text/html": [
              "\n",
              "    <p>Gradient_Boost_Regressor Prediction: [52.21342179]</p>\n",
              "    "
            ]
          },
          "metadata": {}
        },
        {
          "output_type": "display_data",
          "data": {
            "text/plain": [
              "<IPython.core.display.HTML object>"
            ],
            "text/html": [
              "\n",
              "    <p>KNN_Regressor Prediction: [56.2]</p>\n",
              "    "
            ]
          },
          "metadata": {}
        },
        {
          "output_type": "display_data",
          "data": {
            "text/plain": [
              "<IPython.core.display.HTML object>"
            ],
            "text/html": [
              "\n",
              "    <div style='background-color: #DDBFFE;'>\n",
              "        <p><strong>Record Index:</strong> 56 &emsp; <strong>Actual value:</strong> 81</p>\n",
              "    </div>\n",
              "    "
            ]
          },
          "metadata": {}
        },
        {
          "output_type": "display_data",
          "data": {
            "text/plain": [
              "<IPython.core.display.HTML object>"
            ],
            "text/html": [
              "\n",
              "    <p>Linear_Regression Prediction: [57.37179972]</p>\n",
              "    "
            ]
          },
          "metadata": {}
        },
        {
          "output_type": "display_data",
          "data": {
            "text/plain": [
              "<IPython.core.display.HTML object>"
            ],
            "text/html": [
              "\n",
              "    <p>Random_Forest_Regressor Prediction: [51.7436829]</p>\n",
              "    "
            ]
          },
          "metadata": {}
        },
        {
          "output_type": "display_data",
          "data": {
            "text/plain": [
              "<IPython.core.display.HTML object>"
            ],
            "text/html": [
              "\n",
              "    <p>Gradient_Boost_Regressor Prediction: [54.85749065]</p>\n",
              "    "
            ]
          },
          "metadata": {}
        },
        {
          "output_type": "display_data",
          "data": {
            "text/plain": [
              "<IPython.core.display.HTML object>"
            ],
            "text/html": [
              "\n",
              "    <p>KNN_Regressor Prediction: [39.8]</p>\n",
              "    "
            ]
          },
          "metadata": {}
        },
        {
          "output_type": "display_data",
          "data": {
            "text/plain": [
              "<IPython.core.display.HTML object>"
            ],
            "text/html": [
              "\n",
              "    <div style='background-color: #DDBFFE;'>\n",
              "        <p><strong>Record Index:</strong> 530 &emsp; <strong>Actual value:</strong> 50</p>\n",
              "    </div>\n",
              "    "
            ]
          },
          "metadata": {}
        },
        {
          "output_type": "display_data",
          "data": {
            "text/plain": [
              "<IPython.core.display.HTML object>"
            ],
            "text/html": [
              "\n",
              "    <p>Linear_Regression Prediction: [60.33914528]</p>\n",
              "    "
            ]
          },
          "metadata": {}
        },
        {
          "output_type": "display_data",
          "data": {
            "text/plain": [
              "<IPython.core.display.HTML object>"
            ],
            "text/html": [
              "\n",
              "    <p>Random_Forest_Regressor Prediction: [69.76383888]</p>\n",
              "    "
            ]
          },
          "metadata": {}
        },
        {
          "output_type": "display_data",
          "data": {
            "text/plain": [
              "<IPython.core.display.HTML object>"
            ],
            "text/html": [
              "\n",
              "    <p>Gradient_Boost_Regressor Prediction: [61.60634645]</p>\n",
              "    "
            ]
          },
          "metadata": {}
        },
        {
          "output_type": "display_data",
          "data": {
            "text/plain": [
              "<IPython.core.display.HTML object>"
            ],
            "text/html": [
              "\n",
              "    <p>KNN_Regressor Prediction: [72.4]</p>\n",
              "    "
            ]
          },
          "metadata": {}
        },
        {
          "output_type": "display_data",
          "data": {
            "text/plain": [
              "<IPython.core.display.HTML object>"
            ],
            "text/html": [
              "\n",
              "    <div style='background-color: #DDBFFE;'>\n",
              "        <p><strong>Record Index:</strong> 342 &emsp; <strong>Actual value:</strong> 59</p>\n",
              "    </div>\n",
              "    "
            ]
          },
          "metadata": {}
        },
        {
          "output_type": "display_data",
          "data": {
            "text/plain": [
              "<IPython.core.display.HTML object>"
            ],
            "text/html": [
              "\n",
              "    <p>Linear_Regression Prediction: [53.98140548]</p>\n",
              "    "
            ]
          },
          "metadata": {}
        },
        {
          "output_type": "display_data",
          "data": {
            "text/plain": [
              "<IPython.core.display.HTML object>"
            ],
            "text/html": [
              "\n",
              "    <p>Random_Forest_Regressor Prediction: [51.22826541]</p>\n",
              "    "
            ]
          },
          "metadata": {}
        },
        {
          "output_type": "display_data",
          "data": {
            "text/plain": [
              "<IPython.core.display.HTML object>"
            ],
            "text/html": [
              "\n",
              "    <p>Gradient_Boost_Regressor Prediction: [52.12365356]</p>\n",
              "    "
            ]
          },
          "metadata": {}
        },
        {
          "output_type": "display_data",
          "data": {
            "text/plain": [
              "<IPython.core.display.HTML object>"
            ],
            "text/html": [
              "\n",
              "    <p>KNN_Regressor Prediction: [42.4]</p>\n",
              "    "
            ]
          },
          "metadata": {}
        }
      ]
    },
    {
      "cell_type": "markdown",
      "source": [
        "## Findings:\n",
        "### **Question 1:** Can the factors from one's childhood/adolescence included in the survey be used alone to predict the survey participants' current financial well-being score?\n",
        "Overall, each of the models were unable to use the survey's questions related to childhood and adolescence to predict the final Financial Well-Being Score (FWBS). In most cases they underpredicted the FWBS.<br>\n",
        "\n",
        "The correlation matrix did not show a strong linear relationship between any of the childhood factors and the FWBS.<br>\n",
        "\n",
        "Each of of the models had a high mean squared error score, indicating a large difference between the predicted FWBS and the actual FWBS. Furthermore the maximum r-squared score was .048 for this group of features and models. At best, 4.8% of the variability in the FWBS can be explained by this group of questions.\n",
        "\n"
      ],
      "metadata": {
        "id": "ESTUkNyPemJ6"
      }
    },
    {
      "cell_type": "markdown",
      "source": [
        "###**Recommendations**\n",
        "The takeaway from this portion of the analysis is that the childhood experiences outlined in this survey cannot be independently used to predict one's financial well-being score.\n",
        "\n",
        "One way to improve these questions might be to change the response from \"yes/no\" to an ordinal scale (1-5 ranging from never to very often) where possible. For example, an ordinal  scale response to whether one's parents spoke about the importance of saving would help distinguish between respondents who had frequent, recurring conversations about savings from respondents who only had such conversations once or twice."
      ],
      "metadata": {
        "id": "YZa4n2XD5ROa"
      }
    },
    {
      "cell_type": "markdown",
      "source": [
        "## Analysis\n",
        "### **Question 2:** Can the factors from one's social interconnectedness included in the survey be used alone to predict the survey participants' current financial well-being score?\n",
        "This portion of the analysis includes  responses to the question “Do you seek advice on matters involving money from any of the following types of\n",
        "people or organizations?”<br>\n",
        "\n",
        "*  Parent\n",
        "*  Spouse/Partner\n",
        "*  Extended family (e.g., uncle, aunt, cousins,grandparents)\n",
        "*  Employer\n",
        "*  Friends/Co-workers\n",
        "*  Community or faith-based organizations\n",
        "*  Financial institution\n",
        "*  Professional advisor, planner or counselor/coach\n",
        "*  Government"
      ],
      "metadata": {
        "id": "iUQLstEDC4yp"
      }
    },
    {
      "cell_type": "code",
      "source": [
        "#create a dataframe consisting of only the \"interconnectedness\" columns\n",
        "\n",
        "interconn_cols = ['INTERCONNECTIONS_1', 'INTERCONNECTIONS_2',\n",
        "       'INTERCONNECTIONS_3', 'INTERCONNECTIONS_4', 'INTERCONNECTIONS_5',\n",
        "       'INTERCONNECTIONS_6', 'INTERCONNECTIONS_7', 'INTERCONNECTIONS_8',\n",
        "       'INTERCONNECTIONS_9','FWBscore']\n",
        "\n",
        "interconn_df = survey_results_df[interconn_cols]\n",
        "interconn_df.sample(5)"
      ],
      "metadata": {
        "id": "prcLLXkC85S4",
        "colab": {
          "base_uri": "https://localhost:8080/",
          "height": 226
        },
        "outputId": "97ea2344-1d23-4d38-af20-509ecc9d7f07"
      },
      "execution_count": 26,
      "outputs": [
        {
          "output_type": "execute_result",
          "data": {
            "text/plain": [
              "      INTERCONNECTIONS_1  INTERCONNECTIONS_2  INTERCONNECTIONS_3  \\\n",
              "6020                   0                   0                   0   \n",
              "3398                   0                   1                   0   \n",
              "4007                   0                   1                   0   \n",
              "5942                   0                   1                   0   \n",
              "4220                   0                   0                   0   \n",
              "\n",
              "      INTERCONNECTIONS_4  INTERCONNECTIONS_5  INTERCONNECTIONS_6  \\\n",
              "6020                   0                   0                   0   \n",
              "3398                   0                   0                   0   \n",
              "4007                   0                   0                   0   \n",
              "5942                   0                   0                   0   \n",
              "4220                   0                   0                   0   \n",
              "\n",
              "      INTERCONNECTIONS_7  INTERCONNECTIONS_8  INTERCONNECTIONS_9  FWBscore  \n",
              "6020                   0                   0                   0        57  \n",
              "3398                   0                   1                   0        60  \n",
              "4007                   0                   0                   0        64  \n",
              "5942                   0                   0                   0        49  \n",
              "4220                   0                   0                   0        30  "
            ],
            "text/html": [
              "\n",
              "  <div id=\"df-b06647a6-2c95-4ab6-b22b-64b4326994ff\" class=\"colab-df-container\">\n",
              "    <div>\n",
              "<style scoped>\n",
              "    .dataframe tbody tr th:only-of-type {\n",
              "        vertical-align: middle;\n",
              "    }\n",
              "\n",
              "    .dataframe tbody tr th {\n",
              "        vertical-align: top;\n",
              "    }\n",
              "\n",
              "    .dataframe thead th {\n",
              "        text-align: right;\n",
              "    }\n",
              "</style>\n",
              "<table border=\"1\" class=\"dataframe\">\n",
              "  <thead>\n",
              "    <tr style=\"text-align: right;\">\n",
              "      <th></th>\n",
              "      <th>INTERCONNECTIONS_1</th>\n",
              "      <th>INTERCONNECTIONS_2</th>\n",
              "      <th>INTERCONNECTIONS_3</th>\n",
              "      <th>INTERCONNECTIONS_4</th>\n",
              "      <th>INTERCONNECTIONS_5</th>\n",
              "      <th>INTERCONNECTIONS_6</th>\n",
              "      <th>INTERCONNECTIONS_7</th>\n",
              "      <th>INTERCONNECTIONS_8</th>\n",
              "      <th>INTERCONNECTIONS_9</th>\n",
              "      <th>FWBscore</th>\n",
              "    </tr>\n",
              "  </thead>\n",
              "  <tbody>\n",
              "    <tr>\n",
              "      <th>6020</th>\n",
              "      <td>0</td>\n",
              "      <td>0</td>\n",
              "      <td>0</td>\n",
              "      <td>0</td>\n",
              "      <td>0</td>\n",
              "      <td>0</td>\n",
              "      <td>0</td>\n",
              "      <td>0</td>\n",
              "      <td>0</td>\n",
              "      <td>57</td>\n",
              "    </tr>\n",
              "    <tr>\n",
              "      <th>3398</th>\n",
              "      <td>0</td>\n",
              "      <td>1</td>\n",
              "      <td>0</td>\n",
              "      <td>0</td>\n",
              "      <td>0</td>\n",
              "      <td>0</td>\n",
              "      <td>0</td>\n",
              "      <td>1</td>\n",
              "      <td>0</td>\n",
              "      <td>60</td>\n",
              "    </tr>\n",
              "    <tr>\n",
              "      <th>4007</th>\n",
              "      <td>0</td>\n",
              "      <td>1</td>\n",
              "      <td>0</td>\n",
              "      <td>0</td>\n",
              "      <td>0</td>\n",
              "      <td>0</td>\n",
              "      <td>0</td>\n",
              "      <td>0</td>\n",
              "      <td>0</td>\n",
              "      <td>64</td>\n",
              "    </tr>\n",
              "    <tr>\n",
              "      <th>5942</th>\n",
              "      <td>0</td>\n",
              "      <td>1</td>\n",
              "      <td>0</td>\n",
              "      <td>0</td>\n",
              "      <td>0</td>\n",
              "      <td>0</td>\n",
              "      <td>0</td>\n",
              "      <td>0</td>\n",
              "      <td>0</td>\n",
              "      <td>49</td>\n",
              "    </tr>\n",
              "    <tr>\n",
              "      <th>4220</th>\n",
              "      <td>0</td>\n",
              "      <td>0</td>\n",
              "      <td>0</td>\n",
              "      <td>0</td>\n",
              "      <td>0</td>\n",
              "      <td>0</td>\n",
              "      <td>0</td>\n",
              "      <td>0</td>\n",
              "      <td>0</td>\n",
              "      <td>30</td>\n",
              "    </tr>\n",
              "  </tbody>\n",
              "</table>\n",
              "</div>\n",
              "    <div class=\"colab-df-buttons\">\n",
              "\n",
              "  <div class=\"colab-df-container\">\n",
              "    <button class=\"colab-df-convert\" onclick=\"convertToInteractive('df-b06647a6-2c95-4ab6-b22b-64b4326994ff')\"\n",
              "            title=\"Convert this dataframe to an interactive table.\"\n",
              "            style=\"display:none;\">\n",
              "\n",
              "  <svg xmlns=\"http://www.w3.org/2000/svg\" height=\"24px\" viewBox=\"0 -960 960 960\">\n",
              "    <path d=\"M120-120v-720h720v720H120Zm60-500h600v-160H180v160Zm220 220h160v-160H400v160Zm0 220h160v-160H400v160ZM180-400h160v-160H180v160Zm440 0h160v-160H620v160ZM180-180h160v-160H180v160Zm440 0h160v-160H620v160Z\"/>\n",
              "  </svg>\n",
              "    </button>\n",
              "\n",
              "  <style>\n",
              "    .colab-df-container {\n",
              "      display:flex;\n",
              "      gap: 12px;\n",
              "    }\n",
              "\n",
              "    .colab-df-convert {\n",
              "      background-color: #E8F0FE;\n",
              "      border: none;\n",
              "      border-radius: 50%;\n",
              "      cursor: pointer;\n",
              "      display: none;\n",
              "      fill: #1967D2;\n",
              "      height: 32px;\n",
              "      padding: 0 0 0 0;\n",
              "      width: 32px;\n",
              "    }\n",
              "\n",
              "    .colab-df-convert:hover {\n",
              "      background-color: #E2EBFA;\n",
              "      box-shadow: 0px 1px 2px rgba(60, 64, 67, 0.3), 0px 1px 3px 1px rgba(60, 64, 67, 0.15);\n",
              "      fill: #174EA6;\n",
              "    }\n",
              "\n",
              "    .colab-df-buttons div {\n",
              "      margin-bottom: 4px;\n",
              "    }\n",
              "\n",
              "    [theme=dark] .colab-df-convert {\n",
              "      background-color: #3B4455;\n",
              "      fill: #D2E3FC;\n",
              "    }\n",
              "\n",
              "    [theme=dark] .colab-df-convert:hover {\n",
              "      background-color: #434B5C;\n",
              "      box-shadow: 0px 1px 3px 1px rgba(0, 0, 0, 0.15);\n",
              "      filter: drop-shadow(0px 1px 2px rgba(0, 0, 0, 0.3));\n",
              "      fill: #FFFFFF;\n",
              "    }\n",
              "  </style>\n",
              "\n",
              "    <script>\n",
              "      const buttonEl =\n",
              "        document.querySelector('#df-b06647a6-2c95-4ab6-b22b-64b4326994ff button.colab-df-convert');\n",
              "      buttonEl.style.display =\n",
              "        google.colab.kernel.accessAllowed ? 'block' : 'none';\n",
              "\n",
              "      async function convertToInteractive(key) {\n",
              "        const element = document.querySelector('#df-b06647a6-2c95-4ab6-b22b-64b4326994ff');\n",
              "        const dataTable =\n",
              "          await google.colab.kernel.invokeFunction('convertToInteractive',\n",
              "                                                    [key], {});\n",
              "        if (!dataTable) return;\n",
              "\n",
              "        const docLinkHtml = 'Like what you see? Visit the ' +\n",
              "          '<a target=\"_blank\" href=https://colab.research.google.com/notebooks/data_table.ipynb>data table notebook</a>'\n",
              "          + ' to learn more about interactive tables.';\n",
              "        element.innerHTML = '';\n",
              "        dataTable['output_type'] = 'display_data';\n",
              "        await google.colab.output.renderOutput(dataTable, element);\n",
              "        const docLink = document.createElement('div');\n",
              "        docLink.innerHTML = docLinkHtml;\n",
              "        element.appendChild(docLink);\n",
              "      }\n",
              "    </script>\n",
              "  </div>\n",
              "\n",
              "\n",
              "<div id=\"df-e2096d77-9b03-4173-aca1-9ae65c379420\">\n",
              "  <button class=\"colab-df-quickchart\" onclick=\"quickchart('df-e2096d77-9b03-4173-aca1-9ae65c379420')\"\n",
              "            title=\"Suggest charts\"\n",
              "            style=\"display:none;\">\n",
              "\n",
              "<svg xmlns=\"http://www.w3.org/2000/svg\" height=\"24px\"viewBox=\"0 0 24 24\"\n",
              "     width=\"24px\">\n",
              "    <g>\n",
              "        <path d=\"M19 3H5c-1.1 0-2 .9-2 2v14c0 1.1.9 2 2 2h14c1.1 0 2-.9 2-2V5c0-1.1-.9-2-2-2zM9 17H7v-7h2v7zm4 0h-2V7h2v10zm4 0h-2v-4h2v4z\"/>\n",
              "    </g>\n",
              "</svg>\n",
              "  </button>\n",
              "\n",
              "<style>\n",
              "  .colab-df-quickchart {\n",
              "      --bg-color: #E8F0FE;\n",
              "      --fill-color: #1967D2;\n",
              "      --hover-bg-color: #E2EBFA;\n",
              "      --hover-fill-color: #174EA6;\n",
              "      --disabled-fill-color: #AAA;\n",
              "      --disabled-bg-color: #DDD;\n",
              "  }\n",
              "\n",
              "  [theme=dark] .colab-df-quickchart {\n",
              "      --bg-color: #3B4455;\n",
              "      --fill-color: #D2E3FC;\n",
              "      --hover-bg-color: #434B5C;\n",
              "      --hover-fill-color: #FFFFFF;\n",
              "      --disabled-bg-color: #3B4455;\n",
              "      --disabled-fill-color: #666;\n",
              "  }\n",
              "\n",
              "  .colab-df-quickchart {\n",
              "    background-color: var(--bg-color);\n",
              "    border: none;\n",
              "    border-radius: 50%;\n",
              "    cursor: pointer;\n",
              "    display: none;\n",
              "    fill: var(--fill-color);\n",
              "    height: 32px;\n",
              "    padding: 0;\n",
              "    width: 32px;\n",
              "  }\n",
              "\n",
              "  .colab-df-quickchart:hover {\n",
              "    background-color: var(--hover-bg-color);\n",
              "    box-shadow: 0 1px 2px rgba(60, 64, 67, 0.3), 0 1px 3px 1px rgba(60, 64, 67, 0.15);\n",
              "    fill: var(--button-hover-fill-color);\n",
              "  }\n",
              "\n",
              "  .colab-df-quickchart-complete:disabled,\n",
              "  .colab-df-quickchart-complete:disabled:hover {\n",
              "    background-color: var(--disabled-bg-color);\n",
              "    fill: var(--disabled-fill-color);\n",
              "    box-shadow: none;\n",
              "  }\n",
              "\n",
              "  .colab-df-spinner {\n",
              "    border: 2px solid var(--fill-color);\n",
              "    border-color: transparent;\n",
              "    border-bottom-color: var(--fill-color);\n",
              "    animation:\n",
              "      spin 1s steps(1) infinite;\n",
              "  }\n",
              "\n",
              "  @keyframes spin {\n",
              "    0% {\n",
              "      border-color: transparent;\n",
              "      border-bottom-color: var(--fill-color);\n",
              "      border-left-color: var(--fill-color);\n",
              "    }\n",
              "    20% {\n",
              "      border-color: transparent;\n",
              "      border-left-color: var(--fill-color);\n",
              "      border-top-color: var(--fill-color);\n",
              "    }\n",
              "    30% {\n",
              "      border-color: transparent;\n",
              "      border-left-color: var(--fill-color);\n",
              "      border-top-color: var(--fill-color);\n",
              "      border-right-color: var(--fill-color);\n",
              "    }\n",
              "    40% {\n",
              "      border-color: transparent;\n",
              "      border-right-color: var(--fill-color);\n",
              "      border-top-color: var(--fill-color);\n",
              "    }\n",
              "    60% {\n",
              "      border-color: transparent;\n",
              "      border-right-color: var(--fill-color);\n",
              "    }\n",
              "    80% {\n",
              "      border-color: transparent;\n",
              "      border-right-color: var(--fill-color);\n",
              "      border-bottom-color: var(--fill-color);\n",
              "    }\n",
              "    90% {\n",
              "      border-color: transparent;\n",
              "      border-bottom-color: var(--fill-color);\n",
              "    }\n",
              "  }\n",
              "</style>\n",
              "\n",
              "  <script>\n",
              "    async function quickchart(key) {\n",
              "      const quickchartButtonEl =\n",
              "        document.querySelector('#' + key + ' button');\n",
              "      quickchartButtonEl.disabled = true;  // To prevent multiple clicks.\n",
              "      quickchartButtonEl.classList.add('colab-df-spinner');\n",
              "      try {\n",
              "        const charts = await google.colab.kernel.invokeFunction(\n",
              "            'suggestCharts', [key], {});\n",
              "      } catch (error) {\n",
              "        console.error('Error during call to suggestCharts:', error);\n",
              "      }\n",
              "      quickchartButtonEl.classList.remove('colab-df-spinner');\n",
              "      quickchartButtonEl.classList.add('colab-df-quickchart-complete');\n",
              "    }\n",
              "    (() => {\n",
              "      let quickchartButtonEl =\n",
              "        document.querySelector('#df-e2096d77-9b03-4173-aca1-9ae65c379420 button');\n",
              "      quickchartButtonEl.style.display =\n",
              "        google.colab.kernel.accessAllowed ? 'block' : 'none';\n",
              "    })();\n",
              "  </script>\n",
              "</div>\n",
              "\n",
              "    </div>\n",
              "  </div>\n"
            ],
            "application/vnd.google.colaboratory.intrinsic+json": {
              "type": "dataframe",
              "summary": "{\n  \"name\": \"interconn_df\",\n  \"rows\": 5,\n  \"fields\": [\n    {\n      \"column\": \"INTERCONNECTIONS_1\",\n      \"properties\": {\n        \"dtype\": \"number\",\n        \"std\": 0,\n        \"min\": 0,\n        \"max\": 0,\n        \"num_unique_values\": 1,\n        \"samples\": [\n          0\n        ],\n        \"semantic_type\": \"\",\n        \"description\": \"\"\n      }\n    },\n    {\n      \"column\": \"INTERCONNECTIONS_2\",\n      \"properties\": {\n        \"dtype\": \"number\",\n        \"std\": 0,\n        \"min\": 0,\n        \"max\": 1,\n        \"num_unique_values\": 2,\n        \"samples\": [\n          1\n        ],\n        \"semantic_type\": \"\",\n        \"description\": \"\"\n      }\n    },\n    {\n      \"column\": \"INTERCONNECTIONS_3\",\n      \"properties\": {\n        \"dtype\": \"number\",\n        \"std\": 0,\n        \"min\": 0,\n        \"max\": 0,\n        \"num_unique_values\": 1,\n        \"samples\": [\n          0\n        ],\n        \"semantic_type\": \"\",\n        \"description\": \"\"\n      }\n    },\n    {\n      \"column\": \"INTERCONNECTIONS_4\",\n      \"properties\": {\n        \"dtype\": \"number\",\n        \"std\": 0,\n        \"min\": 0,\n        \"max\": 0,\n        \"num_unique_values\": 1,\n        \"samples\": [\n          0\n        ],\n        \"semantic_type\": \"\",\n        \"description\": \"\"\n      }\n    },\n    {\n      \"column\": \"INTERCONNECTIONS_5\",\n      \"properties\": {\n        \"dtype\": \"number\",\n        \"std\": 0,\n        \"min\": 0,\n        \"max\": 0,\n        \"num_unique_values\": 1,\n        \"samples\": [\n          0\n        ],\n        \"semantic_type\": \"\",\n        \"description\": \"\"\n      }\n    },\n    {\n      \"column\": \"INTERCONNECTIONS_6\",\n      \"properties\": {\n        \"dtype\": \"number\",\n        \"std\": 0,\n        \"min\": 0,\n        \"max\": 0,\n        \"num_unique_values\": 1,\n        \"samples\": [\n          0\n        ],\n        \"semantic_type\": \"\",\n        \"description\": \"\"\n      }\n    },\n    {\n      \"column\": \"INTERCONNECTIONS_7\",\n      \"properties\": {\n        \"dtype\": \"number\",\n        \"std\": 0,\n        \"min\": 0,\n        \"max\": 0,\n        \"num_unique_values\": 1,\n        \"samples\": [\n          0\n        ],\n        \"semantic_type\": \"\",\n        \"description\": \"\"\n      }\n    },\n    {\n      \"column\": \"INTERCONNECTIONS_8\",\n      \"properties\": {\n        \"dtype\": \"number\",\n        \"std\": 0,\n        \"min\": 0,\n        \"max\": 1,\n        \"num_unique_values\": 2,\n        \"samples\": [\n          1\n        ],\n        \"semantic_type\": \"\",\n        \"description\": \"\"\n      }\n    },\n    {\n      \"column\": \"INTERCONNECTIONS_9\",\n      \"properties\": {\n        \"dtype\": \"number\",\n        \"std\": 0,\n        \"min\": 0,\n        \"max\": 0,\n        \"num_unique_values\": 1,\n        \"samples\": [\n          0\n        ],\n        \"semantic_type\": \"\",\n        \"description\": \"\"\n      }\n    },\n    {\n      \"column\": \"FWBscore\",\n      \"properties\": {\n        \"dtype\": \"number\",\n        \"std\": 13,\n        \"min\": 30,\n        \"max\": 64,\n        \"num_unique_values\": 5,\n        \"samples\": [\n          60\n        ],\n        \"semantic_type\": \"\",\n        \"description\": \"\"\n      }\n    }\n  ]\n}"
            }
          },
          "metadata": {},
          "execution_count": 26
        }
      ]
    },
    {
      "cell_type": "code",
      "source": [
        "# Dropping the records that don't have a financial well-being score {-4: 'Response not written to database', -1: 'Refused'}\n",
        "interconn_df = interconn_df[interconn_df['FWBscore']>0]"
      ],
      "metadata": {
        "id": "1yrtwhcWt8OA"
      },
      "execution_count": 27,
      "outputs": []
    },
    {
      "cell_type": "markdown",
      "source": [
        "# Exploratory Data Analysis"
      ],
      "metadata": {
        "id": "_wvXKFJjO6oA"
      }
    },
    {
      "cell_type": "code",
      "source": [
        "interconn_question_map = {\n",
        "    'INTERCONNECTIONS_1': 'Parent',\n",
        "    'INTERCONNECTIONS_2': 'Spouse/Partner',\n",
        "    'INTERCONNECTIONS_3': 'Extended Family',\n",
        "    'INTERCONNECTIONS_4': 'Employer',\n",
        "    'INTERCONNECTIONS_5': 'Friends/Coworkers',\n",
        "    'INTERCONNECTIONS_6': 'Community or Faith-Based Organizations',\n",
        "    'INTERCONNECTIONS_7': 'Financial Institution',\n",
        "    'INTERCONNECTIONS_8': 'Professional Advisor or Planner',\n",
        "    'INTERCONNECTIONS_9': 'Government'\n",
        "}"
      ],
      "metadata": {
        "id": "njix-cOWx4Qp"
      },
      "execution_count": 28,
      "outputs": []
    },
    {
      "cell_type": "code",
      "source": [
        "#Visualize the breakdown of to whom and where respondents go for financial advice\n",
        "\n",
        "fig, axes = plt.subplots(nrows=3, ncols=3, figsize=(10, 10))\n",
        "axes = axes.flatten() # Flatten the axes array for easy iteration\n",
        "\n",
        "for i, col in enumerate(interconn_cols[:8]):\n",
        "  data = interconn_df[col].value_counts().transpose()\n",
        "  data.index= ['No','Yes']\n",
        "  data.plot.pie( autopct='%1.1f%%', ax=axes[i])\n",
        "  axes[i].set_title(interconn_question_map[f'{col}'], fontweight='bold')\n",
        "  axes[i].set_ylabel('')  # Remove the default y-label\n",
        "\n",
        "# Hide the unused subplot\n",
        "axes[8].set_visible(False)\n",
        "\n",
        "plt.suptitle('Respondents who seek advice from the following people or organizations', fontsize=15, fontweight='bold', y=0.95)\n",
        "\n",
        "plt.tight_layout(pad=2.3)\n",
        "plt.show();"
      ],
      "metadata": {
        "id": "d5KpdD_Xc3WZ",
        "colab": {
          "base_uri": "https://localhost:8080/",
          "height": 955
        },
        "outputId": "6eb62d5a-adee-4d0b-a9d4-a31cde9530f2"
      },
      "execution_count": 29,
      "outputs": [
        {
          "output_type": "display_data",
          "data": {
            "text/plain": [
              "<Figure size 1000x1000 with 9 Axes>"
            ],
            "image/png": "[encoded data removed]"
          },
          "metadata": {}
        }
      ]
    },
    {
      "cell_type": "markdown",
      "source": [
        "# Split the Data into Training and Test Datasets"
      ],
      "metadata": {
        "id": "YPY04KtEV0Ah"
      }
    },
    {
      "cell_type": "code",
      "source": [
        "# Establish independent and dependent variables\n",
        "\n",
        "X = interconn_df.drop(columns=[\"FWBscore\"], axis=1).values #remove dependent variable and non-numeric column\n",
        "y = interconn_df['FWBscore'].values"
      ],
      "metadata": {
        "id": "xf0FBCc2VsYq"
      },
      "execution_count": 30,
      "outputs": []
    },
    {
      "cell_type": "code",
      "source": [
        "#split the data\n",
        "x_train, x_test, y_train, y_test = train_test_split(X,y, test_size=.2 )"
      ],
      "metadata": {
        "id": "0GaceQiwW1Dq"
      },
      "execution_count": 31,
      "outputs": []
    },
    {
      "cell_type": "markdown",
      "source": [
        "# Train Models and Display Accuracy"
      ],
      "metadata": {
        "id": "vpnBgpIIgCHM"
      }
    },
    {
      "cell_type": "code",
      "source": [
        "for model in model_dict:\n",
        "  model_dict[model].fit(x_train, y_train)\n",
        "\n",
        "  # Predict the test set\n",
        "  y_pred = model_dict[model].predict(x_test)\n",
        "\n",
        "# Evaluate the model\n",
        "  mse = mean_squared_error(y_test, y_pred)\n",
        "  r2 = r2_score(y_test, y_pred)\n",
        "\n",
        "  #Display results as html for ease of reading\n",
        "  html_output = f\"\"\"\n",
        "    <div>\n",
        "        <strong style='background-color: #DDBFFE;'>{model}</strong><br>\n",
        "        Mean Squared Error: {mse}<br>\n",
        "        R-squared: {r2}\n",
        "    </div>\n",
        "    \"\"\"\n",
        "  display(HTML(html_output))\n",
        "  #pickle.dump(model_dict[model], open(f'/content/drive/MyDrive/Financial Well Being Analysis/Q2_{model}_.pkl','wb'))"
      ],
      "metadata": {
        "colab": {
          "base_uri": "https://localhost:8080/",
          "height": 225
        },
        "id": "Notw2fmiW0_e",
        "outputId": "de303ff2-f054-4cdb-ff52-1305266126d1"
      },
      "execution_count": 33,
      "outputs": [
        {
          "output_type": "display_data",
          "data": {
            "text/plain": [
              "<IPython.core.display.HTML object>"
            ],
            "text/html": [
              "\n",
              "    <div>\n",
              "        <strong style='background-color: #DDBFFE;'>Linear_Regression</strong><br>\n",
              "        Mean Squared Error: 166.06994011663852<br>\n",
              "        R-squared: 0.10489195172735011\n",
              "    </div>\n",
              "    "
            ]
          },
          "metadata": {}
        },
        {
          "output_type": "display_data",
          "data": {
            "text/plain": [
              "<IPython.core.display.HTML object>"
            ],
            "text/html": [
              "\n",
              "    <div>\n",
              "        <strong style='background-color: #DDBFFE;'>Random_Forest_Regressor</strong><br>\n",
              "        Mean Squared Error: 168.55767403613308<br>\n",
              "        R-squared: 0.09148319965736995\n",
              "    </div>\n",
              "    "
            ]
          },
          "metadata": {}
        },
        {
          "output_type": "display_data",
          "data": {
            "text/plain": [
              "<IPython.core.display.HTML object>"
            ],
            "text/html": [
              "\n",
              "    <div>\n",
              "        <strong style='background-color: #DDBFFE;'>Gradient_Boost_Regressor</strong><br>\n",
              "        Mean Squared Error: 165.80322725543496<br>\n",
              "        R-squared: 0.10632951970908999\n",
              "    </div>\n",
              "    "
            ]
          },
          "metadata": {}
        },
        {
          "output_type": "display_data",
          "data": {
            "text/plain": [
              "<IPython.core.display.HTML object>"
            ],
            "text/html": [
              "\n",
              "    <div>\n",
              "        <strong style='background-color: #DDBFFE;'>KNN_Regressor</strong><br>\n",
              "        Mean Squared Error: 205.68525821596245<br>\n",
              "        R-squared: -0.10863248286135896\n",
              "    </div>\n",
              "    "
            ]
          },
          "metadata": {}
        }
      ]
    },
    {
      "cell_type": "markdown",
      "source": [
        "# Compare predictions for each model with actual values"
      ],
      "metadata": {
        "id": "IjK4muJTYCLu"
      }
    },
    {
      "cell_type": "code",
      "source": [
        "# Generate an array of 5 random records\n",
        "random_numbers = np.random.randint(0, 1278, size=5)\n",
        "\n",
        "# For each selected record, print the record index and actual value\n",
        "for num in random_numbers:\n",
        "  actual_value = y_test[num]\n",
        "  record_detail =f\"\"\"\n",
        "    <div style='background-color: #f9ab00;'>\n",
        "        <p><strong>Record Index:</strong> {num} &emsp; <strong>Actual value:</strong> {actual_value}</p>\n",
        "    </div>\n",
        "    \"\"\"\n",
        "  display(HTML(record_detail))\n",
        "  #for each model, display the predicted value\n",
        "  for model in model_dict:\n",
        "    prediction = model_dict[model].predict(x_test[num].reshape(1, -1))\n",
        "    results =  f\"\"\"\n",
        "    <p>{model} Prediction: {prediction}</p>\n",
        "    \"\"\"\n",
        "    display(HTML(results))"
      ],
      "metadata": {
        "colab": {
          "base_uri": "https://localhost:8080/",
          "height": 607
        },
        "id": "vuxIqO64W08L",
        "outputId": "d07d3227-1077-41bc-a524-be01c8ae9a9e"
      },
      "execution_count": 34,
      "outputs": [
        {
          "output_type": "display_data",
          "data": {
            "text/plain": [
              "<IPython.core.display.HTML object>"
            ],
            "text/html": [
              "\n",
              "    <div style='background-color: #f9ab00;'>\n",
              "        <p><strong>Record Index:</strong> 1159 &emsp; <strong>Actual value:</strong> 41</p>\n",
              "    </div>\n",
              "    "
            ]
          },
          "metadata": {}
        },
        {
          "output_type": "display_data",
          "data": {
            "text/plain": [
              "<IPython.core.display.HTML object>"
            ],
            "text/html": [
              "\n",
              "    <p>Linear_Regression Prediction: [52.29273005]</p>\n",
              "    "
            ]
          },
          "metadata": {}
        },
        {
          "output_type": "display_data",
          "data": {
            "text/plain": [
              "<IPython.core.display.HTML object>"
            ],
            "text/html": [
              "\n",
              "    <p>Random_Forest_Regressor Prediction: [49.30899045]</p>\n",
              "    "
            ]
          },
          "metadata": {}
        },
        {
          "output_type": "display_data",
          "data": {
            "text/plain": [
              "<IPython.core.display.HTML object>"
            ],
            "text/html": [
              "\n",
              "    <p>Gradient_Boost_Regressor Prediction: [50.79675353]</p>\n",
              "    "
            ]
          },
          "metadata": {}
        },
        {
          "output_type": "display_data",
          "data": {
            "text/plain": [
              "<IPython.core.display.HTML object>"
            ],
            "text/html": [
              "\n",
              "    <p>KNN_Regressor Prediction: [48.]</p>\n",
              "    "
            ]
          },
          "metadata": {}
        },
        {
          "output_type": "display_data",
          "data": {
            "text/plain": [
              "<IPython.core.display.HTML object>"
            ],
            "text/html": [
              "\n",
              "    <div style='background-color: #f9ab00;'>\n",
              "        <p><strong>Record Index:</strong> 1026 &emsp; <strong>Actual value:</strong> 53</p>\n",
              "    </div>\n",
              "    "
            ]
          },
          "metadata": {}
        },
        {
          "output_type": "display_data",
          "data": {
            "text/plain": [
              "<IPython.core.display.HTML object>"
            ],
            "text/html": [
              "\n",
              "    <p>Linear_Regression Prediction: [56.75263986]</p>\n",
              "    "
            ]
          },
          "metadata": {}
        },
        {
          "output_type": "display_data",
          "data": {
            "text/plain": [
              "<IPython.core.display.HTML object>"
            ],
            "text/html": [
              "\n",
              "    <p>Random_Forest_Regressor Prediction: [56.55639627]</p>\n",
              "    "
            ]
          },
          "metadata": {}
        },
        {
          "output_type": "display_data",
          "data": {
            "text/plain": [
              "<IPython.core.display.HTML object>"
            ],
            "text/html": [
              "\n",
              "    <p>Gradient_Boost_Regressor Prediction: [56.62388453]</p>\n",
              "    "
            ]
          },
          "metadata": {}
        },
        {
          "output_type": "display_data",
          "data": {
            "text/plain": [
              "<IPython.core.display.HTML object>"
            ],
            "text/html": [
              "\n",
              "    <p>KNN_Regressor Prediction: [50.4]</p>\n",
              "    "
            ]
          },
          "metadata": {}
        },
        {
          "output_type": "display_data",
          "data": {
            "text/plain": [
              "<IPython.core.display.HTML object>"
            ],
            "text/html": [
              "\n",
              "    <div style='background-color: #f9ab00;'>\n",
              "        <p><strong>Record Index:</strong> 560 &emsp; <strong>Actual value:</strong> 52</p>\n",
              "    </div>\n",
              "    "
            ]
          },
          "metadata": {}
        },
        {
          "output_type": "display_data",
          "data": {
            "text/plain": [
              "<IPython.core.display.HTML object>"
            ],
            "text/html": [
              "\n",
              "    <p>Linear_Regression Prediction: [53.71255751]</p>\n",
              "    "
            ]
          },
          "metadata": {}
        },
        {
          "output_type": "display_data",
          "data": {
            "text/plain": [
              "<IPython.core.display.HTML object>"
            ],
            "text/html": [
              "\n",
              "    <p>Random_Forest_Regressor Prediction: [53.69158515]</p>\n",
              "    "
            ]
          },
          "metadata": {}
        },
        {
          "output_type": "display_data",
          "data": {
            "text/plain": [
              "<IPython.core.display.HTML object>"
            ],
            "text/html": [
              "\n",
              "    <p>Gradient_Boost_Regressor Prediction: [53.30276602]</p>\n",
              "    "
            ]
          },
          "metadata": {}
        },
        {
          "output_type": "display_data",
          "data": {
            "text/plain": [
              "<IPython.core.display.HTML object>"
            ],
            "text/html": [
              "\n",
              "    <p>KNN_Regressor Prediction: [45.6]</p>\n",
              "    "
            ]
          },
          "metadata": {}
        },
        {
          "output_type": "display_data",
          "data": {
            "text/plain": [
              "<IPython.core.display.HTML object>"
            ],
            "text/html": [
              "\n",
              "    <div style='background-color: #f9ab00;'>\n",
              "        <p><strong>Record Index:</strong> 1261 &emsp; <strong>Actual value:</strong> 75</p>\n",
              "    </div>\n",
              "    "
            ]
          },
          "metadata": {}
        },
        {
          "output_type": "display_data",
          "data": {
            "text/plain": [
              "<IPython.core.display.HTML object>"
            ],
            "text/html": [
              "\n",
              "    <p>Linear_Regression Prediction: [53.71255751]</p>\n",
              "    "
            ]
          },
          "metadata": {}
        },
        {
          "output_type": "display_data",
          "data": {
            "text/plain": [
              "<IPython.core.display.HTML object>"
            ],
            "text/html": [
              "\n",
              "    <p>Random_Forest_Regressor Prediction: [53.69158515]</p>\n",
              "    "
            ]
          },
          "metadata": {}
        },
        {
          "output_type": "display_data",
          "data": {
            "text/plain": [
              "<IPython.core.display.HTML object>"
            ],
            "text/html": [
              "\n",
              "    <p>Gradient_Boost_Regressor Prediction: [53.30276602]</p>\n",
              "    "
            ]
          },
          "metadata": {}
        },
        {
          "output_type": "display_data",
          "data": {
            "text/plain": [
              "<IPython.core.display.HTML object>"
            ],
            "text/html": [
              "\n",
              "    <p>KNN_Regressor Prediction: [45.6]</p>\n",
              "    "
            ]
          },
          "metadata": {}
        },
        {
          "output_type": "display_data",
          "data": {
            "text/plain": [
              "<IPython.core.display.HTML object>"
            ],
            "text/html": [
              "\n",
              "    <div style='background-color: #f9ab00;'>\n",
              "        <p><strong>Record Index:</strong> 217 &emsp; <strong>Actual value:</strong> 51</p>\n",
              "    </div>\n",
              "    "
            ]
          },
          "metadata": {}
        },
        {
          "output_type": "display_data",
          "data": {
            "text/plain": [
              "<IPython.core.display.HTML object>"
            ],
            "text/html": [
              "\n",
              "    <p>Linear_Regression Prediction: [50.51053973]</p>\n",
              "    "
            ]
          },
          "metadata": {}
        },
        {
          "output_type": "display_data",
          "data": {
            "text/plain": [
              "<IPython.core.display.HTML object>"
            ],
            "text/html": [
              "\n",
              "    <p>Random_Forest_Regressor Prediction: [49.7219297]</p>\n",
              "    "
            ]
          },
          "metadata": {}
        },
        {
          "output_type": "display_data",
          "data": {
            "text/plain": [
              "<IPython.core.display.HTML object>"
            ],
            "text/html": [
              "\n",
              "    <p>Gradient_Boost_Regressor Prediction: [49.69310936]</p>\n",
              "    "
            ]
          },
          "metadata": {}
        },
        {
          "output_type": "display_data",
          "data": {
            "text/plain": [
              "<IPython.core.display.HTML object>"
            ],
            "text/html": [
              "\n",
              "    <p>KNN_Regressor Prediction: [55.]</p>\n",
              "    "
            ]
          },
          "metadata": {}
        }
      ]
    },
    {
      "cell_type": "markdown",
      "source": [
        "## Findings:\n",
        "### **Question 2:** Can the factors from one's social interconnectedness included in the survey be used alone to predict the survey participants' current financial well-being score??\n",
        "Each of of the models had a high mean squared error score, indicating a large difference between the predicted FWBS and the actual FWBS. Furthermore the maximum r-squared score was .10 for this group of features and models. At best, 10% of the variability in the FWBS can be explained by this group of questions.\n",
        "\n",
        "In conclusion, the models were unable to use the survey's \"interconnectedness\" questions to predict the final Financial Well-Being Score (FWBS). In many cases they underpredicted the FWBS by approximately 15 points.<br>\n"
      ],
      "metadata": {
        "id": "twGz6-CVfKcg"
      }
    },
    {
      "cell_type": "markdown",
      "source": [
        "###**Recommendations**\n",
        "\n",
        "Similar to the childhood/adolescence questions, these questions would be more indicative of the FWBS if the questions were modified to accommodate responses on an ordinal scale (1-5 ranging from never to very often). Also, the questions should focus on whether respondents received advice that resulted in a positive outcome.\n",
        "\n",
        "Another question to consider would be whether respondents obtain financial advice from social media. And if so, has the outcome been positive?"
      ],
      "metadata": {
        "id": "w3dPOnPtaTPb"
      }
    }
  ]
}